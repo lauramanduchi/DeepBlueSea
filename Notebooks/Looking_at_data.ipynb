{
 "cells": [
  {
   "cell_type": "code",
   "execution_count": 4,
   "metadata": {
    "collapsed": true
   },
   "outputs": [],
   "source": [
    "import numpy as np\n",
    "import os\n",
    "from matplotlib import image as mpimg\n",
    "\n",
    "# just in case we need these\n",
    "from scipy.stats import describe\n",
    "from matplotlib import image as mpimg\n",
    "import os\n",
    "import numpy as np\n",
    "from PIL import Image\n",
    "from scipy.misc import imsave"
   ]
  },
  {
   "cell_type": "code",
   "execution_count": 5,
   "metadata": {
    "collapsed": true
   },
   "outputs": [],
   "source": [
    "path = '/Users/margheritarosnati/Documents/DS/2018-2/DL/DeepBlueSea/data/'\n",
    "pimg = 'train_sample/'\n",
    "pgt = 'train_maps/'"
   ]
  },
  {
   "cell_type": "code",
   "execution_count": 7,
   "metadata": {},
   "outputs": [
    {
     "data": {
      "text/plain": [
       "'gt_10fa36503.jpg'"
      ]
     },
     "execution_count": 7,
     "metadata": {},
     "output_type": "execute_result"
    }
   ],
   "source": [
    "# this is how we'll read files\n",
    "print()'gt_' + os.listdir(path+pimg)[0])\n",
    "# Let's have a try:\n",
    "# image\n",
    "filename = path+pimg + os.listdir(path+pimg)[0]\n",
    "data = mpimg.imread(filename)\n",
    "print(np.shape(data))\n",
    "# gt\n",
    "filename = path+pgt +'gt_' + os.listdir(path+pimg)[0]\n",
    "gt_data = mpimg.imread(filename)\n",
    "np.shape(gt_data)"
   ]
  },
  {
   "cell_type": "code",
   "execution_count": 22,
   "metadata": {},
   "outputs": [],
   "source": [
    "nfiles = len(os.listdir(path+pimg))"
   ]
  },
  {
   "cell_type": "code",
   "execution_count": 26,
   "metadata": {
    "collapsed": true
   },
   "outputs": [],
   "source": [
    "nselect = 1000\n",
    "randomise = np.random.choice(nfiles, size=nselect, replace=False)"
   ]
  },
  {
   "cell_type": "code",
   "execution_count": 28,
   "metadata": {},
   "outputs": [],
   "source": [
    "filelist = []\n",
    "for i in randomise:\n",
    "    filelist = filelist + [os.listdir(path+pimg)[i]]\n",
    "gtlist = ['gt_' + filelist[i] for i in range(nselect)]"
   ]
  },
  {
   "cell_type": "code",
   "execution_count": 38,
   "metadata": {
    "collapsed": true
   },
   "outputs": [],
   "source": [
    "imgs = []\n",
    "gts  = []\n",
    "\n",
    "def load_image(infilename):\n",
    "    \"\"\" Reads images \"\"\"\n",
    "    data = mpimg.imread(infilename)\n",
    "    return data"
   ]
  },
  {
   "cell_type": "code",
   "execution_count": 45,
   "metadata": {},
   "outputs": [
    {
     "name": "stdout",
     "output_type": "stream",
     "text": [
      "1000\n"
     ]
    }
   ],
   "source": [
    "imgs = []\n",
    "gts  = []\n",
    "for i in range(nselect):\n",
    "    name = path + pimg + filelist[i]\n",
    "    if name[-4:] == \".jpg\":\n",
    "        imgs.append(load_image(name))\n",
    "    gtname = path + pgt + gtlist[i]\n",
    "    if gtname[-4:] == \".jpg\":\n",
    "        gts.append(load_image(gtname))\n",
    "print(len(imgs))\n",
    "imgs = np.asarray(imgs)\n",
    "gts = np.asarray(gts)"
   ]
  },
  {
   "cell_type": "code",
   "execution_count": null,
   "metadata": {
    "collapsed": true
   },
   "outputs": [],
   "source": [
    "# From previous project:\n",
    "\n",
    "from scipy.stats import describe\n",
    "from matplotlib import image as mpimg\n",
    "import os\n",
    "import numpy as np\n",
    "from PIL import Image\n",
    "from scipy.misc import imsave\n",
    "\n",
    "def save_gt(image_array, filedir, filename):\n",
    "    return imsave(filedir + filename, image_array)\n",
    "\n",
    "def save_all_gt(gt_array, gt_dir, end_dir=\"/Users/margheritarosnati/Documents/DS/2018-1/CIL/assignment/GitHub/CILly/RandomForest/data_output/\"):\n",
    "    names = os.listdir(gt_dir)\n",
    "    if len(names) != gt_array.shape[0]:\n",
    "        return 'Problem'\n",
    "    for i in range(len(names)):\n",
    "        save_gt(gt_array[i,],end_dir,names[i])\n",
    "        \n",
    "\n",
    "def load_image(infilename):\n",
    "    \"\"\" Reads images \"\"\"\n",
    "    data = mpimg.imread(infilename)\n",
    "    return data\n",
    "\n",
    "\n",
    "def load_all(test_im=70, main_root = \"/Users/margheritarosnati/Documents/DS/2018-1/CIL/assignment/GitHub/CILly/data/\",\n",
    "             random=True):\n",
    "    \"\"\"\n",
    "    Reads all training images and partitions them into training and validation sets\n",
    "    Returns training set, training set ground truth, validation set, validation set ground truth and test set\n",
    "    \"\"\"\n",
    "    # First deal with the training images\n",
    "    root_dir = main_root + \"training/\"\n",
    "    # Images:\n",
    "    image_dir = root_dir + \"images/\"\n",
    "    files = os.listdir(image_dir)\n",
    "    n = len(files)\n",
    "    imgs = []\n",
    "    for i in range(n):\n",
    "        name = image_dir + files[i]\n",
    "        if name[-4:] == \".png\":\n",
    "            imgs.append(load_image(name))\n",
    "    imgs = np.asarray(imgs)\n",
    "    # Ground truths:\n",
    "    gt_dir = root_dir + \"groundtruth/\"\n",
    "    gt_files = os.listdir(gt_dir)\n",
    "    gt_imgs = []\n",
    "    for i in range(n):\n",
    "        name = gt_dir + gt_files[i]\n",
    "        if name[-4:] == \".png\":\n",
    "            gt_imgs.append(load_image(name))\n",
    "    gt_imgs = np.asarray(gt_imgs)\n",
    "    # Creating a test and validation set\n",
    "    if random == True:\n",
    "        randomise = np.random.choice(n, size=n, replace=False)\n",
    "        imgs = imgs[randomise, :, :, :]\n",
    "        gt_imgs = gt_imgs[randomise, :, :]\n",
    "        imgs_train = imgs[:test_im, :, :, :]\n",
    "        imgs_test = imgs[test_im:, :, :, :]\n",
    "        gt_train = gt_imgs[:test_im, :, :]\n",
    "        gt_test = gt_imgs[test_im:, :, :]\n",
    "    else:\n",
    "        # In this case we follow a specific pattern for comparison purposes to the other models produced\n",
    "        imgs_train = np.concatenate((imgs[:40,], imgs[50:60,], imgs[70:,]))\n",
    "        imgs_test = np.concatenate((imgs[40:50,], imgs[60:70,]))\n",
    "        gt_train = np.concatenate((gt_imgs[:40,], gt_imgs[50:60,], gt_imgs[70:,]))\n",
    "        gt_test = np.concatenate((gt_imgs[40:50, ], gt_imgs[60:70, ]))\n",
    "\n",
    "    # Test set images\n",
    "    root_dir_t = main_root + \"testing/\"\n",
    "    image_dir_t = root_dir_t\n",
    "    files_t = os.listdir(image_dir_t)\n",
    "    n_t = len(files_t)\n",
    "    t_imgs = []\n",
    "    for i in range(n_t):\n",
    "        name = image_dir_t + files_t[i]\n",
    "        if name[-4:] == \".png\":\n",
    "            t_imgs.append(load_image(image_dir_t + files_t[i]))\n",
    "    t_imgs = np.array(t_imgs)\n",
    "\n",
    "    return [imgs_train, gt_train, imgs_test, gt_test, t_imgs]\n",
    "\n",
    "def img_float_to_uint8(img):\n",
    "    rimg = img - np.min(img)\n",
    "    rimg = (rimg / np.max(rimg) * 255).round().astype(np.uint8)\n",
    "    return rimg"
   ]
  }
 ],
 "metadata": {
  "kernelspec": {
   "display_name": "Python 3",
   "language": "python",
   "name": "python3"
  },
  "language_info": {
   "codemirror_mode": {
    "name": "ipython",
    "version": 3
   },
   "file_extension": ".py",
   "mimetype": "text/x-python",
   "name": "python",
   "nbconvert_exporter": "python",
   "pygments_lexer": "ipython3",
   "version": "3.6.3"
  }
 },
 "nbformat": 4,
 "nbformat_minor": 1
}
