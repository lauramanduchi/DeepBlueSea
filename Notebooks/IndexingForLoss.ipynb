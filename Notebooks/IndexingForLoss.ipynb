{
 "cells": [
  {
   "cell_type": "code",
   "execution_count": 1,
   "metadata": {},
   "outputs": [
    {
     "name": "stderr",
     "output_type": "stream",
     "text": [
      "/Users/brianregan/anaconda3/lib/python3.6/site-packages/h5py/__init__.py:36: FutureWarning: Conversion of the second argument of issubdtype from `float` to `np.floating` is deprecated. In future, it will be treated as `np.float64 == np.dtype(float).type`.\n",
      "  from ._conv import register_converters as _register_converters\n"
     ]
    }
   ],
   "source": [
    "import numpy as np\n",
    "import tensorflow as tf"
   ]
  },
  {
   "cell_type": "code",
   "execution_count": 2,
   "metadata": {},
   "outputs": [],
   "source": [
    "n_boat = 15\n",
    "n_anchor = 9\n",
    "img_size = 5\n",
    "batch_size = 10"
   ]
  },
  {
   "cell_type": "code",
   "execution_count": 3,
   "metadata": {},
   "outputs": [],
   "source": [
    "# Simpler Case \n",
    "# Array Creation\n",
    "# main array is a [batch_size, h, w, n_boat, 4] shaped array where values are repeated along the last dimension.\n",
    "# in the first slice of the n_boat dimension each array is batch_index*[[0,1,2,3,4], [1,2,3,4,5], ...] while the second\n",
    "# slice in the n_boat dimension is batch_index*[[[1,2,3,4,5], [2,3,4,5,6]] ...] (ie. shifted up one).\n",
    "np.random.seed(seed=0)\n",
    "\n",
    "batch_arrs = []\n",
    "for b in range(batch_size):\n",
    "    arrs = []\n",
    "    for i in range(n_boat):\n",
    "        arrs.append(np.arange(start=i, stop=i +img_size*img_size).reshape((img_size, img_size)))\n",
    "    \n",
    "    batch_array = np.stack(arrs, -1)\n",
    "    batch_array = np.repeat(np.expand_dims(batch_array, -1), 4, -1)\n",
    "    #main_array = np.repeat(np.expand_dims(main_array, 0), batch_size, 0)\n",
    "    batch_arrs.append(batch_array*b)\n",
    "\n",
    "main_array = np.stack(batch_arrs, 0)\n",
    "    \n",
    "\n",
    "index_array = np.random.randint(n_boat, size=(img_size, img_size))\n",
    "index_array = np.repeat(np.expand_dims(index_array, 0), batch_size, 0)"
   ]
  },
  {
   "cell_type": "code",
   "execution_count": 4,
   "metadata": {},
   "outputs": [
    {
     "data": {
      "text/plain": [
       "(10, 5, 5, 15, 4)"
      ]
     },
     "execution_count": 4,
     "metadata": {},
     "output_type": "execute_result"
    }
   ],
   "source": [
    "# [batch_size, h, w, n_boat, 4]\n",
    "main_array.shape"
   ]
  },
  {
   "cell_type": "code",
   "execution_count": 5,
   "metadata": {},
   "outputs": [
    {
     "data": {
      "text/plain": [
       "(10, 5, 5)"
      ]
     },
     "execution_count": 5,
     "metadata": {},
     "output_type": "execute_result"
    }
   ],
   "source": [
    "# [batch_size, h, w]\n",
    "index_array.shape"
   ]
  },
  {
   "cell_type": "code",
   "execution_count": 6,
   "metadata": {},
   "outputs": [
    {
     "data": {
      "text/plain": [
       "array([[ 2,  3,  4,  5,  6],\n",
       "       [ 7,  8,  9, 10, 11],\n",
       "       [12, 13, 14, 15, 16],\n",
       "       [17, 18, 19, 20, 21],\n",
       "       [22, 23, 24, 25, 26]])"
      ]
     },
     "execution_count": 6,
     "metadata": {},
     "output_type": "execute_result"
    }
   ],
   "source": [
    "main_array[1,:,:,2, 0]"
   ]
  },
  {
   "cell_type": "code",
   "execution_count": 7,
   "metadata": {},
   "outputs": [
    {
     "data": {
      "text/plain": [
       "array([[12,  5,  0,  3, 11],\n",
       "       [ 3,  7,  9,  3,  5],\n",
       "       [ 2,  4,  7,  6,  8],\n",
       "       [ 8, 12, 10,  1,  6],\n",
       "       [ 7,  7, 14,  8,  1]])"
      ]
     },
     "execution_count": 7,
     "metadata": {},
     "output_type": "execute_result"
    }
   ],
   "source": [
    "index_array[3,:,:]"
   ]
  },
  {
   "cell_type": "code",
   "execution_count": 8,
   "metadata": {},
   "outputs": [],
   "source": [
    "# See https://stackoverflow.com/questions/28980345/numpy-index-array-by-array\n",
    "out = main_array[np.arange(batch_size)[:,np.newaxis, np.newaxis], \n",
    "                 np.arange(img_size)[np.newaxis, :, np.newaxis], \n",
    "                 np.arange(img_size)[np.newaxis, np.newaxis, :], \n",
    "                 index_array]\n",
    "\n"
   ]
  },
  {
   "cell_type": "code",
   "execution_count": 9,
   "metadata": {},
   "outputs": [],
   "source": [
    "def select_with_matrix(arr, indexer):\n",
    "    '''\n",
    "    \n",
    "    '''\n",
    "    \n",
    "    batch_size, h, w, depth, vals = arr.shape\n",
    "    out = arr[np.arange(batch_size)[:,np.newaxis, np.newaxis], \n",
    "              np.arange(h)[np.newaxis, :, np.newaxis], \n",
    "              np.arange(w)[np.newaxis, np.newaxis, :], \n",
    "              indexer]\n",
    "    return out"
   ]
  },
  {
   "cell_type": "code",
   "execution_count": 50,
   "metadata": {},
   "outputs": [],
   "source": [
    "def select_with_matrix_tf(tensor, indexer):\n",
    "    \n",
    "    batch_size, h, w, depth, vals = tensor.get_shape().as_list()\n",
    "    desired_shape = [batch_size, h, w]\n",
    "    index_list = [\n",
    "        tf.broadcast_to(tf.reshape(tf.range(batch_size, dtype=tf.int64), (-1, 1, 1)), desired_shape),\n",
    "        tf.broadcast_to(tf.reshape(tf.range(h, dtype=tf.int64), (1,-1,1)), desired_shape),\n",
    "        tf.broadcast_to(tf.reshape(tf.range(w, dtype=tf.int64), (1,1,-1)), desired_shape),\n",
    "        indexer\n",
    "    ]\n",
    "    index = tf.stack(index_list,-1)\n",
    "    return tf.gather_nd(tensor, index)"
   ]
  },
  {
   "cell_type": "code",
   "execution_count": 51,
   "metadata": {},
   "outputs": [],
   "source": [
    "main_array_tf, index_array_tf = tf.constant(main_array), tf.constant(index_array, dtype=tf.int64)\n",
    "out_tf = select_with_matrix_tf(main_array_tf, index_array_tf)"
   ]
  },
  {
   "cell_type": "code",
   "execution_count": 17,
   "metadata": {},
   "outputs": [],
   "source": [
    "sess = tf.InteractiveSession()"
   ]
  },
  {
   "cell_type": "code",
   "execution_count": 41,
   "metadata": {},
   "outputs": [],
   "source": [
    "out_tf_eval = out_tf.eval()"
   ]
  },
  {
   "cell_type": "code",
   "execution_count": 26,
   "metadata": {},
   "outputs": [],
   "source": [
    "out = select_with_matrix(main_array, index_array)"
   ]
  },
  {
   "cell_type": "code",
   "execution_count": 27,
   "metadata": {},
   "outputs": [
    {
     "data": {
      "text/plain": [
       "(10, 5, 5, 4)"
      ]
     },
     "execution_count": 27,
     "metadata": {},
     "output_type": "execute_result"
    }
   ],
   "source": [
    "out.shape"
   ]
  },
  {
   "cell_type": "code",
   "execution_count": 31,
   "metadata": {},
   "outputs": [
    {
     "data": {
      "text/plain": [
       "array([[12,  6,  2,  6, 15],\n",
       "       [ 8, 13, 16, 11, 14],\n",
       "       [12, 15, 19, 19, 22],\n",
       "       [23, 28, 27, 19, 25],\n",
       "       [27, 28, 36, 31, 25]])"
      ]
     },
     "execution_count": 31,
     "metadata": {},
     "output_type": "execute_result"
    }
   ],
   "source": [
    "out[1, :,:,1]"
   ]
  },
  {
   "cell_type": "code",
   "execution_count": 42,
   "metadata": {},
   "outputs": [
    {
     "data": {
      "text/plain": [
       "array([[12,  6,  2,  6, 15],\n",
       "       [ 8, 13, 16, 11, 14],\n",
       "       [12, 15, 19, 19, 22],\n",
       "       [23, 28, 27, 19, 25],\n",
       "       [27, 28, 36, 31, 25]])"
      ]
     },
     "execution_count": 42,
     "metadata": {},
     "output_type": "execute_result"
    }
   ],
   "source": [
    "out_tf_eval[1, :,:,1]"
   ]
  },
  {
   "cell_type": "code",
   "execution_count": 47,
   "metadata": {},
   "outputs": [
    {
     "name": "stdout",
     "output_type": "stream",
     "text": [
      "0 0 0.0\n"
     ]
    }
   ],
   "source": [
    "dif = (out - out_tf_eval)\n",
    "print(dif.max(), dif.min(), np.median(dif))"
   ]
  },
  {
   "cell_type": "code",
   "execution_count": 73,
   "metadata": {},
   "outputs": [],
   "source": [
    "a = out_tf[:, :,:,0]"
   ]
  },
  {
   "cell_type": "code",
   "execution_count": 74,
   "metadata": {},
   "outputs": [
    {
     "data": {
      "text/plain": [
       "TensorShape([Dimension(10), Dimension(5), Dimension(5)])"
      ]
     },
     "execution_count": 74,
     "metadata": {},
     "output_type": "execute_result"
    }
   ],
   "source": [
    "a.shape"
   ]
  },
  {
   "cell_type": "code",
   "execution_count": 89,
   "metadata": {},
   "outputs": [],
   "source": [
    "b = tf.tile(tf.expand_dims(a, -1), [1,1,1,4]).eval()"
   ]
  },
  {
   "cell_type": "code",
   "execution_count": 92,
   "metadata": {},
   "outputs": [
    {
     "data": {
      "text/plain": [
       "array([[[  0,   0,   0,   0,   0],\n",
       "        [  0,   0,   0,   0,   0],\n",
       "        [  0,   0,   0,   0,   0],\n",
       "        [  0,   0,   0,   0,   0],\n",
       "        [  0,   0,   0,   0,   0]],\n",
       "\n",
       "       [[ 12,   6,   2,   6,  15],\n",
       "        [  8,  13,  16,  11,  14],\n",
       "        [ 12,  15,  19,  19,  22],\n",
       "        [ 23,  28,  27,  19,  25],\n",
       "        [ 27,  28,  36,  31,  25]],\n",
       "\n",
       "       [[ 24,  12,   4,  12,  30],\n",
       "        [ 16,  26,  32,  22,  28],\n",
       "        [ 24,  30,  38,  38,  44],\n",
       "        [ 46,  56,  54,  38,  50],\n",
       "        [ 54,  56,  72,  62,  50]],\n",
       "\n",
       "       [[ 36,  18,   6,  18,  45],\n",
       "        [ 24,  39,  48,  33,  42],\n",
       "        [ 36,  45,  57,  57,  66],\n",
       "        [ 69,  84,  81,  57,  75],\n",
       "        [ 81,  84, 108,  93,  75]],\n",
       "\n",
       "       [[ 48,  24,   8,  24,  60],\n",
       "        [ 32,  52,  64,  44,  56],\n",
       "        [ 48,  60,  76,  76,  88],\n",
       "        [ 92, 112, 108,  76, 100],\n",
       "        [108, 112, 144, 124, 100]],\n",
       "\n",
       "       [[ 60,  30,  10,  30,  75],\n",
       "        [ 40,  65,  80,  55,  70],\n",
       "        [ 60,  75,  95,  95, 110],\n",
       "        [115, 140, 135,  95, 125],\n",
       "        [135, 140, 180, 155, 125]],\n",
       "\n",
       "       [[ 72,  36,  12,  36,  90],\n",
       "        [ 48,  78,  96,  66,  84],\n",
       "        [ 72,  90, 114, 114, 132],\n",
       "        [138, 168, 162, 114, 150],\n",
       "        [162, 168, 216, 186, 150]],\n",
       "\n",
       "       [[ 84,  42,  14,  42, 105],\n",
       "        [ 56,  91, 112,  77,  98],\n",
       "        [ 84, 105, 133, 133, 154],\n",
       "        [161, 196, 189, 133, 175],\n",
       "        [189, 196, 252, 217, 175]],\n",
       "\n",
       "       [[ 96,  48,  16,  48, 120],\n",
       "        [ 64, 104, 128,  88, 112],\n",
       "        [ 96, 120, 152, 152, 176],\n",
       "        [184, 224, 216, 152, 200],\n",
       "        [216, 224, 288, 248, 200]],\n",
       "\n",
       "       [[108,  54,  18,  54, 135],\n",
       "        [ 72, 117, 144,  99, 126],\n",
       "        [108, 135, 171, 171, 198],\n",
       "        [207, 252, 243, 171, 225],\n",
       "        [243, 252, 324, 279, 225]]])"
      ]
     },
     "execution_count": 92,
     "metadata": {},
     "output_type": "execute_result"
    }
   ],
   "source": [
    "b[:,:,:,2]"
   ]
  }
 ],
 "metadata": {
  "kernelspec": {
   "display_name": "Python 3",
   "language": "python",
   "name": "python3"
  },
  "language_info": {
   "codemirror_mode": {
    "name": "ipython",
    "version": 3
   },
   "file_extension": ".py",
   "mimetype": "text/x-python",
   "name": "python",
   "nbconvert_exporter": "python",
   "pygments_lexer": "ipython3",
   "version": "3.6.7"
  }
 },
 "nbformat": 4,
 "nbformat_minor": 2
}
