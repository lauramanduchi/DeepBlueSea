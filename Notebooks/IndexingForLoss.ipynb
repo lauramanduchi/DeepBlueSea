{
 "cells": [
  {
   "cell_type": "code",
   "execution_count": 1,
   "metadata": {},
   "outputs": [
    {
     "name": "stderr",
     "output_type": "stream",
     "text": [
      "/Users/brianregan/anaconda3/lib/python3.6/site-packages/h5py/__init__.py:36: FutureWarning: Conversion of the second argument of issubdtype from `float` to `np.floating` is deprecated. In future, it will be treated as `np.float64 == np.dtype(float).type`.\n",
      "  from ._conv import register_converters as _register_converters\n"
     ]
    }
   ],
   "source": [
    "import numpy as np\n",
    "import tensorflow as tf"
   ]
  },
  {
   "cell_type": "code",
   "execution_count": 2,
   "metadata": {},
   "outputs": [],
   "source": [
    "n_boat = 15\n",
    "n_anchor = 9\n",
    "img_size = 5\n",
    "batch_size = 10"
   ]
  },
  {
   "cell_type": "code",
   "execution_count": 3,
   "metadata": {},
   "outputs": [],
   "source": [
    "# Simpler Case \n",
    "# Array Creation\n",
    "# main array is a [batch_size, h, w, n_boat, 4] shaped array where values are repeated along the last dimension.\n",
    "# in the first slice of the n_boat dimension each array is batch_index*[[0,1,2,3,4], [1,2,3,4,5], ...] while the second\n",
    "# slice in the n_boat dimension is batch_index*[[[1,2,3,4,5], [2,3,4,5,6]] ...] (ie. shifted up one).\n",
    "np.random.seed(seed=0)\n",
    "\n",
    "batch_arrs = []\n",
    "for b in range(batch_size):\n",
    "    arrs = []\n",
    "    for i in range(n_boat):\n",
    "        arrs.append(np.arange(start=i, stop=i +img_size*img_size).reshape((img_size, img_size)))\n",
    "    \n",
    "    batch_array = np.stack(arrs, -1)\n",
    "    batch_array = np.repeat(np.expand_dims(batch_array, -1), 4, -1)\n",
    "    #main_array = np.repeat(np.expand_dims(main_array, 0), batch_size, 0)\n",
    "    batch_arrs.append(batch_array*b)\n",
    "\n",
    "main_array = np.stack(batch_arrs, 0)\n",
    "    \n",
    "\n",
    "index_array = np.random.randint(n_boat, size=(img_size, img_size))\n",
    "index_array = np.repeat(np.expand_dims(index_array, 0), batch_size, 0)"
   ]
  },
  {
   "cell_type": "code",
   "execution_count": 4,
   "metadata": {},
   "outputs": [
    {
     "data": {
      "text/plain": [
       "(10, 5, 5, 15, 4)"
      ]
     },
     "execution_count": 4,
     "metadata": {},
     "output_type": "execute_result"
    }
   ],
   "source": [
    "# [batch_size, h, w, n_boat, 4]\n",
    "main_array.shape"
   ]
  },
  {
   "cell_type": "code",
   "execution_count": 5,
   "metadata": {},
   "outputs": [
    {
     "data": {
      "text/plain": [
       "(10, 5, 5)"
      ]
     },
     "execution_count": 5,
     "metadata": {},
     "output_type": "execute_result"
    }
   ],
   "source": [
    "# [batch_size, h, w]\n",
    "index_array.shape"
   ]
  },
  {
   "cell_type": "code",
   "execution_count": 6,
   "metadata": {},
   "outputs": [
    {
     "data": {
      "text/plain": [
       "array([[ 2,  3,  4,  5,  6],\n",
       "       [ 7,  8,  9, 10, 11],\n",
       "       [12, 13, 14, 15, 16],\n",
       "       [17, 18, 19, 20, 21],\n",
       "       [22, 23, 24, 25, 26]])"
      ]
     },
     "execution_count": 6,
     "metadata": {},
     "output_type": "execute_result"
    }
   ],
   "source": [
    "main_array[1,:,:,2, 0]"
   ]
  },
  {
   "cell_type": "code",
   "execution_count": 7,
   "metadata": {},
   "outputs": [
    {
     "data": {
      "text/plain": [
       "array([[12,  5,  0,  3, 11],\n",
       "       [ 3,  7,  9,  3,  5],\n",
       "       [ 2,  4,  7,  6,  8],\n",
       "       [ 8, 12, 10,  1,  6],\n",
       "       [ 7,  7, 14,  8,  1]])"
      ]
     },
     "execution_count": 7,
     "metadata": {},
     "output_type": "execute_result"
    }
   ],
   "source": [
    "index_array[3,:,:]"
   ]
  },
  {
   "cell_type": "code",
   "execution_count": 8,
   "metadata": {},
   "outputs": [],
   "source": [
    "# See https://stackoverflow.com/questions/28980345/numpy-index-array-by-array\n",
    "out = main_array[np.arange(batch_size)[:,np.newaxis, np.newaxis], \n",
    "                 np.arange(img_size)[np.newaxis, :, np.newaxis], \n",
    "                 np.arange(img_size)[np.newaxis, np.newaxis, :], \n",
    "                 index_array]\n",
    "\n"
   ]
  },
  {
   "cell_type": "code",
   "execution_count": 9,
   "metadata": {},
   "outputs": [],
   "source": [
    "def select_with_matrix(arr, indexer):\n",
    "    '''\n",
    "    \n",
    "    '''\n",
    "    \n",
    "    batch_size, h, w, depth, vals = arr.shape\n",
    "    out = arr[np.arange(batch_size)[:,np.newaxis, np.newaxis], \n",
    "              np.arange(h)[np.newaxis, :, np.newaxis], \n",
    "              np.arange(w)[np.newaxis, np.newaxis, :], \n",
    "              indexer]\n",
    "    return out"
   ]
  },
  {
   "cell_type": "code",
   "execution_count": 50,
   "metadata": {},
   "outputs": [],
   "source": [
    "def select_with_matrix_tf(tensor, indexer):\n",
    "    \n",
    "    batch_size, h, w, depth, vals = tensor.get_shape().as_list()\n",
    "    desired_shape = [batch_size, h, w]\n",
    "    index_list = [\n",
    "        tf.broadcast_to(tf.reshape(tf.range(batch_size, dtype=tf.int64), (-1, 1, 1)), desired_shape),\n",
    "        tf.broadcast_to(tf.reshape(tf.range(h, dtype=tf.int64), (1,-1,1)), desired_shape),\n",
    "        tf.broadcast_to(tf.reshape(tf.range(w, dtype=tf.int64), (1,1,-1)), desired_shape),\n",
    "        indexer\n",
    "    ]\n",
    "    index = tf.stack(index_list,-1)\n",
    "    return tf.gather_nd(tensor, index)"
   ]
  },
  {
   "cell_type": "code",
   "execution_count": 51,
   "metadata": {},
   "outputs": [],
   "source": [
    "main_array_tf, index_array_tf = tf.constant(main_array), tf.constant(index_array, dtype=tf.int64)\n",
    "out_tf = select_with_matrix_tf(main_array_tf, index_array_tf)"
   ]
  },
  {
   "cell_type": "code",
   "execution_count": 17,
   "metadata": {},
   "outputs": [],
   "source": [
    "sess = tf.InteractiveSession()"
   ]
  },
  {
   "cell_type": "code",
   "execution_count": 41,
   "metadata": {},
   "outputs": [],
   "source": [
    "out_tf_eval = out_tf.eval()"
   ]
  },
  {
   "cell_type": "code",
   "execution_count": 26,
   "metadata": {},
   "outputs": [],
   "source": [
    "out = select_with_matrix(main_array, index_array)"
   ]
  },
  {
   "cell_type": "code",
   "execution_count": 27,
   "metadata": {},
   "outputs": [
    {
     "data": {
      "text/plain": [
       "(10, 5, 5, 4)"
      ]
     },
     "execution_count": 27,
     "metadata": {},
     "output_type": "execute_result"
    }
   ],
   "source": [
    "out.shape"
   ]
  },
  {
   "cell_type": "code",
   "execution_count": 31,
   "metadata": {},
   "outputs": [
    {
     "data": {
      "text/plain": [
       "array([[12,  6,  2,  6, 15],\n",
       "       [ 8, 13, 16, 11, 14],\n",
       "       [12, 15, 19, 19, 22],\n",
       "       [23, 28, 27, 19, 25],\n",
       "       [27, 28, 36, 31, 25]])"
      ]
     },
     "execution_count": 31,
     "metadata": {},
     "output_type": "execute_result"
    }
   ],
   "source": [
    "out[1, :,:,1]"
   ]
  },
  {
   "cell_type": "code",
   "execution_count": 42,
   "metadata": {},
   "outputs": [
    {
     "data": {
      "text/plain": [
       "array([[12,  6,  2,  6, 15],\n",
       "       [ 8, 13, 16, 11, 14],\n",
       "       [12, 15, 19, 19, 22],\n",
       "       [23, 28, 27, 19, 25],\n",
       "       [27, 28, 36, 31, 25]])"
      ]
     },
     "execution_count": 42,
     "metadata": {},
     "output_type": "execute_result"
    }
   ],
   "source": [
    "out_tf_eval[1, :,:,1]"
   ]
  },
  {
   "cell_type": "code",
   "execution_count": 47,
   "metadata": {},
   "outputs": [
    {
     "name": "stdout",
     "output_type": "stream",
     "text": [
      "0 0 0.0\n"
     ]
    }
   ],
   "source": [
    "dif = (out - out_tf_eval)\n",
    "print(dif.max(), dif.min(), np.median(dif))"
   ]
  }
 ],
 "metadata": {
  "kernelspec": {
   "display_name": "Python 3",
   "language": "python",
   "name": "python3"
  },
  "language_info": {
   "codemirror_mode": {
    "name": "ipython",
    "version": 3
   },
   "file_extension": ".py",
   "mimetype": "text/x-python",
   "name": "python",
   "nbconvert_exporter": "python",
   "pygments_lexer": "ipython3",
   "version": "3.6.7"
  }
 },
 "nbformat": 4,
 "nbformat_minor": 2
}
