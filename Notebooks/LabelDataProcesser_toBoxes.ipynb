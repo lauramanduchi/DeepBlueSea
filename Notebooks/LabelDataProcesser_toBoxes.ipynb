{
 "cells": [
  {
   "cell_type": "code",
   "execution_count": 1,
   "metadata": {
    "collapsed": true
   },
   "outputs": [],
   "source": [
    "import numpy as np\n",
    "import pandas as pd\n",
    "import os\n",
    "import matplotlib.pyplot as plt"
   ]
  },
  {
   "cell_type": "code",
   "execution_count": 2,
   "metadata": {
    "collapsed": true
   },
   "outputs": [],
   "source": [
    "all_labels = pd.read_csv('../data/train_labels_all.csv')"
   ]
  },
  {
   "cell_type": "code",
   "execution_count": 3,
   "metadata": {
    "collapsed": true
   },
   "outputs": [],
   "source": [
    "# Get the id's of the files we sampled\n",
    "sampled_images = os.listdir('../data/train_sample/')"
   ]
  },
  {
   "cell_type": "code",
   "execution_count": 4,
   "metadata": {
    "collapsed": true
   },
   "outputs": [],
   "source": [
    "filtered_data = all_labels[all_labels.ImageId.isin(sampled_images)]"
   ]
  },
  {
   "cell_type": "code",
   "execution_count": 6,
   "metadata": {},
   "outputs": [
    {
     "data": {
      "text/html": [
       "<div>\n",
       "<style>\n",
       "    .dataframe thead tr:only-child th {\n",
       "        text-align: right;\n",
       "    }\n",
       "\n",
       "    .dataframe thead th {\n",
       "        text-align: left;\n",
       "    }\n",
       "\n",
       "    .dataframe tbody tr th {\n",
       "        vertical-align: top;\n",
       "    }\n",
       "</style>\n",
       "<table border=\"1\" class=\"dataframe\">\n",
       "  <thead>\n",
       "    <tr style=\"text-align: right;\">\n",
       "      <th></th>\n",
       "      <th>ImageId</th>\n",
       "      <th>EncodedPixels</th>\n",
       "    </tr>\n",
       "  </thead>\n",
       "  <tbody>\n",
       "    <tr>\n",
       "      <th>18</th>\n",
       "      <td>0002756f7.jpg</td>\n",
       "      <td>255784 2 256552 4 257319 7 258087 9 258854 12 ...</td>\n",
       "    </tr>\n",
       "    <tr>\n",
       "      <th>19</th>\n",
       "      <td>0002756f7.jpg</td>\n",
       "      <td>248878 1 249645 4 250413 6 251180 9 251948 10 ...</td>\n",
       "    </tr>\n",
       "    <tr>\n",
       "      <th>84</th>\n",
       "      <td>0016ae695.jpg</td>\n",
       "      <td>NaN</td>\n",
       "    </tr>\n",
       "    <tr>\n",
       "      <th>92</th>\n",
       "      <td>00189cc36.jpg</td>\n",
       "      <td>NaN</td>\n",
       "    </tr>\n",
       "    <tr>\n",
       "      <th>100</th>\n",
       "      <td>001a7cba8.jpg</td>\n",
       "      <td>NaN</td>\n",
       "    </tr>\n",
       "  </tbody>\n",
       "</table>\n",
       "</div>"
      ],
      "text/plain": [
       "           ImageId                                      EncodedPixels\n",
       "18   0002756f7.jpg  255784 2 256552 4 257319 7 258087 9 258854 12 ...\n",
       "19   0002756f7.jpg  248878 1 249645 4 250413 6 251180 9 251948 10 ...\n",
       "84   0016ae695.jpg                                                NaN\n",
       "92   00189cc36.jpg                                                NaN\n",
       "100  001a7cba8.jpg                                                NaN"
      ]
     },
     "execution_count": 6,
     "metadata": {},
     "output_type": "execute_result"
    }
   ],
   "source": [
    "filtered_data.head()"
   ]
  },
  {
   "cell_type": "code",
   "execution_count": 24,
   "metadata": {
    "collapsed": true
   },
   "outputs": [],
   "source": [
    "def code2image(encoding, input_image):\n",
    "    if pd.isnull(encoding):\n",
    "        return input_image\n",
    "    \n",
    "    else:\n",
    "        split_encoding = encoding.split()\n",
    "        n_pixels = int(len(split_encoding)/2)\n",
    "        \n",
    "        # pixels are 1 indexed in order 1: (1,1), 2: (2,1), etc. \n",
    "        # see: https://www.kaggle.com/c/airbus-ship-detection#evaluation\n",
    "        flatten_image = input_image.flatten('F')\n",
    "        \n",
    "        for pixel_idx in range(n_pixels):\n",
    "            row_numb = int(split_encoding[pixel_idx*2])\n",
    "            mask_len = int(split_encoding[pixel_idx*2 + 1])\n",
    "            \n",
    "            flatten_image[row_numb:row_numb+mask_len] = 1\n",
    "            \n",
    "        return np.reshape(flatten_image, newshape = (768, 768), order='F')"
   ]
  },
  {
   "cell_type": "code",
   "execution_count": 7,
   "metadata": {
    "collapsed": true
   },
   "outputs": [],
   "source": [
    "name = '3c74edc8e.jpg'"
   ]
  },
  {
   "cell_type": "code",
   "execution_count": 10,
   "metadata": {},
   "outputs": [
    {
     "data": {
      "text/html": [
       "<div>\n",
       "<style>\n",
       "    .dataframe thead tr:only-child th {\n",
       "        text-align: right;\n",
       "    }\n",
       "\n",
       "    .dataframe thead th {\n",
       "        text-align: left;\n",
       "    }\n",
       "\n",
       "    .dataframe tbody tr th {\n",
       "        vertical-align: top;\n",
       "    }\n",
       "</style>\n",
       "<table border=\"1\" class=\"dataframe\">\n",
       "  <thead>\n",
       "    <tr style=\"text-align: right;\">\n",
       "      <th></th>\n",
       "      <th>ImageId</th>\n",
       "      <th>EncodedPixels</th>\n",
       "    </tr>\n",
       "  </thead>\n",
       "  <tbody>\n",
       "    <tr>\n",
       "      <th>54378</th>\n",
       "      <td>3c74edc8e.jpg</td>\n",
       "      <td>514581 4 515341 12 516105 16 516873 16 517641 ...</td>\n",
       "    </tr>\n",
       "    <tr>\n",
       "      <th>54379</th>\n",
       "      <td>3c74edc8e.jpg</td>\n",
       "      <td>328114 3 328876 9 329639 14 330404 18 331172 1...</td>\n",
       "    </tr>\n",
       "    <tr>\n",
       "      <th>54380</th>\n",
       "      <td>3c74edc8e.jpg</td>\n",
       "      <td>407871 18 408639 18 409407 18 410175 18 410943...</td>\n",
       "    </tr>\n",
       "    <tr>\n",
       "      <th>54381</th>\n",
       "      <td>3c74edc8e.jpg</td>\n",
       "      <td>534773 12 535530 23 536298 23 537066 23 537834...</td>\n",
       "    </tr>\n",
       "    <tr>\n",
       "      <th>54382</th>\n",
       "      <td>3c74edc8e.jpg</td>\n",
       "      <td>388264 5 389023 14 389783 22 390546 27 391314 ...</td>\n",
       "    </tr>\n",
       "    <tr>\n",
       "      <th>54383</th>\n",
       "      <td>3c74edc8e.jpg</td>\n",
       "      <td>438629 4 439394 7 440162 7 440930 7 441698 8 4...</td>\n",
       "    </tr>\n",
       "    <tr>\n",
       "      <th>54384</th>\n",
       "      <td>3c74edc8e.jpg</td>\n",
       "      <td>440303 4 441064 11 441828 15 442596 16 443364 ...</td>\n",
       "    </tr>\n",
       "    <tr>\n",
       "      <th>54385</th>\n",
       "      <td>3c74edc8e.jpg</td>\n",
       "      <td>342880 5 343640 13 344404 17 345172 17 345940 ...</td>\n",
       "    </tr>\n",
       "  </tbody>\n",
       "</table>\n",
       "</div>"
      ],
      "text/plain": [
       "             ImageId                                      EncodedPixels\n",
       "54378  3c74edc8e.jpg  514581 4 515341 12 516105 16 516873 16 517641 ...\n",
       "54379  3c74edc8e.jpg  328114 3 328876 9 329639 14 330404 18 331172 1...\n",
       "54380  3c74edc8e.jpg  407871 18 408639 18 409407 18 410175 18 410943...\n",
       "54381  3c74edc8e.jpg  534773 12 535530 23 536298 23 537066 23 537834...\n",
       "54382  3c74edc8e.jpg  388264 5 389023 14 389783 22 390546 27 391314 ...\n",
       "54383  3c74edc8e.jpg  438629 4 439394 7 440162 7 440930 7 441698 8 4...\n",
       "54384  3c74edc8e.jpg  440303 4 441064 11 441828 15 442596 16 443364 ...\n",
       "54385  3c74edc8e.jpg  342880 5 343640 13 344404 17 345172 17 345940 ..."
      ]
     },
     "execution_count": 10,
     "metadata": {},
     "output_type": "execute_result"
    }
   ],
   "source": [
    "filtered_data[filtered_data.ImageId==name]"
   ]
  },
  {
   "cell_type": "code",
   "execution_count": 32,
   "metadata": {},
   "outputs": [
    {
     "name": "stdout",
     "output_type": "stream",
     "text": [
      "248878 1 249645 4 250413 6 251180 9 251948 10 252715 13 253482 16 254250 18 255019 18 255789 18 256559 18 257329 18 258099 17 258869 15 259639 12 260409 10 261179 7 261949 5 262719 2 263488 1 264255 1\n",
      "219.0\n"
     ]
    },
    {
     "data": {
      "image/png": "[encoded data removed]",
      "text/plain": [
       "<matplotlib.figure.Figure at 0x1126b1ef0>"
      ]
     },
     "metadata": {},
     "output_type": "display_data"
    }
   ],
   "source": [
    "test_row = filtered_data.EncodedPixels.iloc[1]\n",
    "print(test_row)\n",
    "test_image = np.zeros((768, 768))\n",
    "out_arr = code2image(test_row, test_image)\n",
    "print(sum(sum(out_arr)))\n",
    "plt.imshow(out_arr)\n",
    "plt.show()"
   ]
  },
  {
   "cell_type": "code",
   "execution_count": 109,
   "metadata": {
    "collapsed": true
   },
   "outputs": [],
   "source": [
    "grouped_dat = filtered_data.groupby('ImageId')"
   ]
  },
  {
   "cell_type": "code",
   "execution_count": 50,
   "metadata": {
    "collapsed": true
   },
   "outputs": [],
   "source": [
    "import imageio"
   ]
  },
  {
   "cell_type": "code",
   "execution_count": 53,
   "metadata": {},
   "outputs": [
    {
     "name": "stderr",
     "output_type": "stream",
     "text": [
      "/Users/brianregan/anaconda3/lib/python3.6/site-packages/imageio/core/util.py:104: UserWarning: Conversion from float64 to uint8, range [0.0, 255.0]\n",
      "  'range [{2}, {3}]'.format(dtype_str, out_type.__name__, mi, ma))\n",
      "/Users/brianregan/anaconda3/lib/python3.6/site-packages/imageio/core/util.py:78: UserWarning: Lossy conversion from float64 to uint8, range [0, 1]\n",
      "  dtype_str, out_type.__name__))\n"
     ]
    }
   ],
   "source": [
    "for group, rows in grouped_dat:\n",
    "    \n",
    "    image = np.zeros((768, 768))\n",
    "    for index, row in rows.iterrows():\n",
    "        image = code2image(row['EncodedPixels'], image)\n",
    "    \n",
    "    imageio.imwrite('../DeepBlueSea/data/train_maps/gt_'+group, 255*image)"
   ]
  },
  {
   "cell_type": "code",
   "execution_count": 72,
   "metadata": {},
   "outputs": [
    {
     "data": {
      "image/png": "[encoded data removed]",
      "text/plain": [
       "<matplotlib.figure.Figure at 0x10fae0160>"
      ]
     },
     "metadata": {},
     "output_type": "display_data"
    }
   ],
   "source": [
    "# View Some Examples \n",
    "name = '3c74edc8e.jpg'\n",
    "train_image = imageio.imread('../DeepBlueSea/data/train_sample/' + name)\n",
    "gt_map = image = imageio.imread('../DeepBlueSea/data/train_maps/gt_' + name)\n",
    "plt.imshow(train_image)\n",
    "plt.imshow(gt_map, alpha = 0.25)\n",
    "plt.show()"
   ]
  },
  {
   "cell_type": "code",
   "execution_count": 140,
   "metadata": {
    "collapsed": true
   },
   "outputs": [],
   "source": [
    "def code2box(encoding, label):\n",
    "    if pd.isnull(encoding):\n",
    "        return [label,np.asarray([0,0]), 0, 0]\n",
    "    else:\n",
    "        split_encoding = encoding.split()\n",
    "        n_pixels = int(len(split_encoding)/2)\n",
    "        \n",
    "        # pixels are 1 indexed in order 1: (1,1), 2: (2,1), etc. \n",
    "        # see: https://www.kaggle.com/c/airbus-ship-detection#evaluation\n",
    "        input_image = np.zeros((768, 768))\n",
    "        flatten_image = input_image.flatten('F')\n",
    "        \n",
    "        for pixel_idx in range(n_pixels):\n",
    "            row_numb = int(split_encoding[pixel_idx*2])\n",
    "            mask_len = int(split_encoding[pixel_idx*2 + 1])\n",
    "            \n",
    "            flatten_image[row_numb:row_numb+mask_len] = 1\n",
    "        input_image = np.reshape(flatten_image, newshape = (768, 768), order='F')\n",
    "        xaxis, yaxis = np.nonzero(input_image)\n",
    "        corner = np.asarray([0,0])\n",
    "        corner[0] = np.min(xaxis)\n",
    "        corner[1] = np.min(yaxis)\n",
    "        height = np.max(yaxis) - corner[1]\n",
    "        width = np.max(xaxis) - corner[0]\n",
    "        return [label, corner, width, height]"
   ]
  },
  {
   "cell_type": "code",
   "execution_count": 150,
   "metadata": {},
   "outputs": [],
   "source": [
    "#output = np.empty((len(all_labels),2))\n",
    "output = [code2box(row['EncodedPixels'],row['ImageId']) for index, row in all_labels.iterrows()]\n",
    "#df = all_labels.head(5)\n",
    "#output = [ code2box(row['EncodedPixels'],row['ImageId']) for index, row in df.iterrows()]"
   ]
  },
  {
   "cell_type": "code",
   "execution_count": 151,
   "metadata": {},
   "outputs": [],
   "source": [
    "df_out = pd.DataFrame(output, columns=['ImageId','corner', 'width', 'height'])"
   ]
  },
  {
   "cell_type": "code",
   "execution_count": 154,
   "metadata": {},
   "outputs": [],
   "source": [
    "df_out.head()\n",
    "path = \"/Users/margheritarosnati/Documents/DS/2018-2/DL/DeepBlueSea/data/train_maps/boxes.pkl\"\n",
    "df_out.to_pickle(path)"
   ]
  }
 ],
 "metadata": {
  "kernelspec": {
   "display_name": "Python 3",
   "language": "python",
   "name": "python3"
  },
  "language_info": {
   "codemirror_mode": {
    "name": "ipython",
    "version": 3
   },
   "file_extension": ".py",
   "mimetype": "text/x-python",
   "name": "python",
   "nbconvert_exporter": "python",
   "pygments_lexer": "ipython3",
   "version": "3.6.3"
  }
 },
 "nbformat": 4,
 "nbformat_minor": 2
}
