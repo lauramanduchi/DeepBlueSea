{
 "cells": [
  {
   "cell_type": "markdown",
   "metadata": {},
   "source": [
    "### let's first check which images we want to avoid"
   ]
  },
  {
   "cell_type": "code",
   "execution_count": 38,
   "metadata": {},
   "outputs": [],
   "source": [
    "import os\n",
    "import pandas as pd\n",
    "import numpy as np\n",
    "import time"
   ]
  },
  {
   "cell_type": "code",
   "execution_count": 2,
   "metadata": {
    "collapsed": true
   },
   "outputs": [],
   "source": [
    "path = \"../data/train_sample/\""
   ]
  },
  {
   "cell_type": "code",
   "execution_count": 3,
   "metadata": {
    "collapsed": true
   },
   "outputs": [],
   "source": [
    "files = [x for x in os.listdir(path) if x[-3:] == 'jpg']"
   ]
  },
  {
   "cell_type": "code",
   "execution_count": 4,
   "metadata": {},
   "outputs": [
    {
     "data": {
      "text/plain": [
       "10000"
      ]
     },
     "execution_count": 4,
     "metadata": {},
     "output_type": "execute_result"
    }
   ],
   "source": [
    "len(files)"
   ]
  },
  {
   "cell_type": "code",
   "execution_count": 7,
   "metadata": {},
   "outputs": [],
   "source": [
    "labels_file =  \"../data/labels/boxes_v2.csv\"\n",
    "y_raw = pd.read_csv(labels_file)"
   ]
  },
  {
   "cell_type": "code",
   "execution_count": 8,
   "metadata": {},
   "outputs": [
    {
     "data": {
      "text/html": [
       "<div>\n",
       "<style>\n",
       "    .dataframe thead tr:only-child th {\n",
       "        text-align: right;\n",
       "    }\n",
       "\n",
       "    .dataframe thead th {\n",
       "        text-align: left;\n",
       "    }\n",
       "\n",
       "    .dataframe tbody tr th {\n",
       "        vertical-align: top;\n",
       "    }\n",
       "</style>\n",
       "<table border=\"1\" class=\"dataframe\">\n",
       "  <thead>\n",
       "    <tr style=\"text-align: right;\">\n",
       "      <th></th>\n",
       "      <th>ImageId</th>\n",
       "      <th>width</th>\n",
       "      <th>height</th>\n",
       "      <th>lt_x</th>\n",
       "      <th>lt_y</th>\n",
       "      <th>rb_x</th>\n",
       "      <th>rb_y</th>\n",
       "    </tr>\n",
       "  </thead>\n",
       "  <tbody>\n",
       "    <tr>\n",
       "      <th>0</th>\n",
       "      <td>00003e153.jpg</td>\n",
       "      <td>0</td>\n",
       "      <td>0</td>\n",
       "      <td>0</td>\n",
       "      <td>0</td>\n",
       "      <td>0</td>\n",
       "      <td>0</td>\n",
       "    </tr>\n",
       "  </tbody>\n",
       "</table>\n",
       "</div>"
      ],
      "text/plain": [
       "         ImageId  width  height  lt_x  lt_y  rb_x  rb_y\n",
       "0  00003e153.jpg      0       0     0     0     0     0"
      ]
     },
     "execution_count": 8,
     "metadata": {},
     "output_type": "execute_result"
    }
   ],
   "source": [
    "y_raw.head(1)"
   ]
  },
  {
   "cell_type": "code",
   "execution_count": 18,
   "metadata": {},
   "outputs": [],
   "source": [
    "all_imgs = list(y_raw.ImageId)"
   ]
  },
  {
   "cell_type": "code",
   "execution_count": 19,
   "metadata": {},
   "outputs": [
    {
     "name": "stdout",
     "output_type": "stream",
     "text": [
      "time: 25.100682020187378\n"
     ]
    }
   ],
   "source": [
    "startTime = time.time()\n",
    "for i in range(len(files)):\n",
    "    all_imgs.remove(files[i])\n",
    "print(\"time:\",time.time()-startTime)"
   ]
  },
  {
   "cell_type": "code",
   "execution_count": 20,
   "metadata": {
    "collapsed": true
   },
   "outputs": [],
   "source": [
    "idx = np.random.choice(len(all_imgs), 100)\n",
    "test_imgs = [all_imgs[i] for i in idx]"
   ]
  },
  {
   "cell_type": "code",
   "execution_count": 24,
   "metadata": {},
   "outputs": [
    {
     "data": {
      "text/plain": [
       "13"
      ]
     },
     "execution_count": 24,
     "metadata": {},
     "output_type": "execute_result"
    }
   ],
   "source": [
    "len(test_imgs[0])"
   ]
  },
  {
   "cell_type": "code",
   "execution_count": 25,
   "metadata": {},
   "outputs": [],
   "source": [
    "np.savetxt(\"/Users/margheritarosnati/Documents/DS/2018-2/DL/DeepBlueSea/test_imgs_list.csv\",\n",
    "           np.asarray(test_imgs),\n",
    "           fmt='%15s', \n",
    "           delimiter=';')"
   ]
  },
  {
   "cell_type": "code",
   "execution_count": 26,
   "metadata": {},
   "outputs": [
    {
     "name": "stdout",
     "output_type": "stream",
     "text": [
      "['2b41fd0e8.jpg', '2bba22a59.jpg']\n"
     ]
    }
   ],
   "source": [
    "n=2\n",
    "idx = np.random.choice(len(files), n)\n",
    "test_of_test = [files[i] for i in idx]\n",
    "print(test_of_test)"
   ]
  },
  {
   "cell_type": "code",
   "execution_count": 28,
   "metadata": {},
   "outputs": [
    {
     "data": {
      "text/plain": [
       "'/Users/margheritarosnati/Documents/4'"
      ]
     },
     "execution_count": 28,
     "metadata": {},
     "output_type": "execute_result"
    }
   ],
   "source": [
    "part = \"/Users/margheritarosnati/Documents/\"\n",
    "i=4\n",
    "part + str(i)"
   ]
  },
  {
   "cell_type": "markdown",
   "metadata": {},
   "source": [
    "# Boxes proposal"
   ]
  },
  {
   "cell_type": "code",
   "execution_count": null,
   "metadata": {
    "collapsed": true
   },
   "outputs": [],
   "source": [
    "path =\"/Users/margheritarosnati/Desktop/\"\n",
    "class_score = np.load(path+'class_score.npy')\n",
    "reg_score = np.load(path+'reg_score.npy')"
   ]
  },
  {
   "cell_type": "code",
   "execution_count": 127,
   "metadata": {
    "collapsed": true
   },
   "outputs": [],
   "source": [
    "def boxes_per_image(class_score, reg_score, class_thres=0.5, nms_thres=0.2, debug=0):\n",
    "    '''\n",
    "    outputs the coordinates of the bounding boxes as [x1, x2, y1, y2]\n",
    "    \n",
    "    :param class_score: input class scores per image as per output by the model [768, 768, n_anchors, 2]\n",
    "    :param reg_score: input reg scores per image as per output by the model [768, 768, n_anchors, 2]\n",
    "    :return: array of [n_boxes, coordinates] where coordinates are [x1, x2, y1, y2]\n",
    "    '''\n",
    "    prob_class = class_softmax(class_score)[:,:,:,0]\n",
    "    neg_mask = prob_class < class_thres\n",
    "    if debug:\n",
    "        print(\"num of pos anchors:\",768**2*10 - np.sum(neg_mask))\n",
    "    # only look at positive labels (or labels above threshold)\n",
    "    prob_class[neg_mask] = 0\n",
    "    c_x, c_y, anchor_dim = np.nonzero(prob_class)\n",
    "    w = reg_score[c_x, c_y, anchor_dim][:,0]\n",
    "    h = reg_score[c_x, c_y, anchor_dim][:,1]\n",
    "    trial_boxes = np.zeros((len(c_x),4))\n",
    "    trial_boxes[:,0] = c_x - w/2\n",
    "    trial_boxes[:,1] = c_x + w/2\n",
    "    trial_boxes[:,2] = c_y - h/2\n",
    "    trial_boxes[:,3] = c_y + h/2\n",
    "    boxes = non_max_suppression_fast(trial_boxes, nms_thres)\n",
    "    return boxes\n",
    "\n",
    "def class_softmax(x):\n",
    "    \"\"\"Compute softmax values for each sets of scores in x.\"\"\"\n",
    "    shapes = np.shape(x)\n",
    "    if len(shapes)!=4:\n",
    "        print(\"error! was expecting array of shape 4 [768, 768, n_anchors, 2]\")\n",
    "    nom = np.exp(x)\n",
    "    denom = np.reshape(np.sum(nom, axis=-1),(shapes[0], shapes[1],shapes[2], 1))\n",
    "    return nom/np.tile(denom, (1, 1, 1, 2))\n",
    "\n",
    "# internet code for NMS \n",
    "# https://www.pyimagesearch.com/2015/02/16/faster-non-maximum-suppression-python/\n",
    "# import the necessary packages\n",
    "\n",
    "# Malisiewicz et al.\n",
    "def non_max_suppression_fast(boxes, overlapThresh):\n",
    "\t# if there are no boxes, return an empty list\n",
    "\tif len(boxes) == 0:\n",
    "\t\treturn []\n",
    " \n",
    "\t# if the bounding boxes integers, convert them to floats --\n",
    "\t# this is important since we'll be doing a bunch of divisions\n",
    "\tif boxes.dtype.kind == \"i\":\n",
    "\t\tboxes = boxes.astype(\"float\")\n",
    " \n",
    "\t# initialize the list of picked indexes\t\n",
    "\tpick = []\n",
    " \n",
    "\t# grab the coordinates of the bounding boxes\n",
    "\tx1 = boxes[:,0]\n",
    "\ty1 = boxes[:,1]\n",
    "\tx2 = boxes[:,2]\n",
    "\ty2 = boxes[:,3]\n",
    " \n",
    "\t# compute the area of the bounding boxes and sort the bounding\n",
    "\t# boxes by the bottom-right y-coordinate of the bounding box\n",
    "\tarea = (x2 - x1 + 1) * (y2 - y1 + 1)\n",
    "\tidxs = np.argsort(y2)\n",
    " \n",
    "\t# keep looping while some indexes still remain in the indexes\n",
    "\t# list\n",
    "\twhile len(idxs) > 0:\n",
    "\t\t# grab the last index in the indexes list and add the\n",
    "\t\t# index value to the list of picked indexes\n",
    "\t\tlast = len(idxs) - 1\n",
    "\t\ti = idxs[last]\n",
    "\t\tpick.append(i)\n",
    " \n",
    "\t\t# find the largest (x, y) coordinates for the start of\n",
    "\t\t# the bounding box and the smallest (x, y) coordinates\n",
    "\t\t# for the end of the bounding box\n",
    "\t\txx1 = np.maximum(x1[i], x1[idxs[:last]])\n",
    "\t\tyy1 = np.maximum(y1[i], y1[idxs[:last]])\n",
    "\t\txx2 = np.minimum(x2[i], x2[idxs[:last]])\n",
    "\t\tyy2 = np.minimum(y2[i], y2[idxs[:last]])\n",
    " \n",
    "\t\t# compute the width and height of the bounding box\n",
    "\t\tw = np.maximum(0, xx2 - xx1 + 1)\n",
    "\t\th = np.maximum(0, yy2 - yy1 + 1)\n",
    " \n",
    "\t\t# compute the ratio of overlap\n",
    "\t\toverlap = (w * h) / area[idxs[:last]]\n",
    " \n",
    "\t\t# delete all indexes from the index list that have\n",
    "\t\tidxs = np.delete(idxs, np.concatenate(([last],\n",
    "\t\t\tnp.where(overlap > overlapThresh)[0])))\n",
    " \n",
    "\t# return only the bounding boxes that were picked using the\n",
    "\t# integer data type\n",
    "\treturn boxes[pick].astype(\"int\")"
   ]
  },
  {
   "cell_type": "code",
   "execution_count": 128,
   "metadata": {
    "scrolled": true
   },
   "outputs": [
    {
     "name": "stdout",
     "output_type": "stream",
     "text": [
      "num of pos anchors: 23\n",
      "[[ -3   9 532 545]\n",
      " [651 668 426 443]\n",
      " [651 668 425 442]\n",
      " [547 560 405 420]\n",
      " [545 560 405 420]\n",
      " [546 561 404 419]\n",
      " [545 560 404 419]\n",
      " [342 357 335 350]\n",
      " [341 356 336 349]\n",
      " [342 357 334 349]]\n"
     ]
    }
   ],
   "source": [
    "print(boxes_per_image(class_score[0], reg_score[0], class_thres= 0.57, debug=1))"
   ]
  }
 ],
 "metadata": {
  "kernelspec": {
   "display_name": "Python 3",
   "language": "python",
   "name": "python3"
  },
  "language_info": {
   "codemirror_mode": {
    "name": "ipython",
    "version": 3
   },
   "file_extension": ".py",
   "mimetype": "text/x-python",
   "name": "python",
   "nbconvert_exporter": "python",
   "pygments_lexer": "ipython3",
   "version": "3.6.3"
  }
 },
 "nbformat": 4,
 "nbformat_minor": 2
}
