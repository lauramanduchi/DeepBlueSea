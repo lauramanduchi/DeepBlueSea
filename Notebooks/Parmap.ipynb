{
 "cells": [
  {
   "cell_type": "markdown",
   "metadata": {},
   "source": [
    "## Speed-up the code"
   ]
  },
  {
   "cell_type": "code",
   "execution_count": 1,
   "metadata": {},
   "outputs": [],
   "source": [
    "# About parmap\n",
    "# y = [myfunction(x, argument1, mykeyword=argument2) for x in mylist]\n",
    "# In parallel:\n",
    "# y = parmap.map(myfunction, mylist, argument1, mykeyword=argument2)"
   ]
  },
  {
   "cell_type": "code",
   "execution_count": 3,
   "metadata": {},
   "outputs": [],
   "source": [
    "import numpy as np\n",
    "from skimage.segmentation import slic\n",
    "from skimage.transform import resize\n",
    "import os\n",
    "import warnings\n",
    "from matplotlib import image as mpimg\n",
    "import sys\n",
    "from numpy import unique\n",
    "from numpy import random\n",
    "import time\n",
    "import parmap"
   ]
  },
  {
   "cell_type": "code",
   "execution_count": 126,
   "metadata": {
    "scrolled": true
   },
   "outputs": [],
   "source": [
    "def load_image(infilename):\n",
    "    \"\"\" Reads images \"\"\"\n",
    "    data = mpimg.imread(infilename)\n",
    "    return data\n",
    "\n",
    "\n",
    "def load_batch(path, pimg, pgt, nfiles, batch_size=1000):\n",
    "    # sample randomly\n",
    "    randomise = np.random.choice(nfiles, size=batch_size, replace=False)\n",
    "    # generate file lists\n",
    "    print('Reading file names ..')\n",
    "    filelist = []\n",
    "    filelist = [os.listdir(path + pimg)[i] for i in randomise]\n",
    "    gtlist = ['gt_' + filelist[i] for i in range(len(filelist))]\n",
    "    print('read')\n",
    "    # initialise datasets\n",
    "    imgs = []\n",
    "    gts = []\n",
    "    # read files\n",
    "    print('Reading ', batch_size, ' files...')\n",
    "    i = 0\n",
    "    while i < batch_size:\n",
    "        name = path + pimg + filelist[i]\n",
    "        gtname = path + pgt + gtlist[i]\n",
    "        if name.endswith(\".jpg\"):\n",
    "            i += 1\n",
    "            imgs.append(load_image(name))\n",
    "            gts.append(load_image(gtname))\n",
    "\n",
    "    imgs = np.asarray(imgs)\n",
    "    gts = np.asarray(gts)\n",
    "    print('Read ', i, ' files.')\n",
    "    print('Check: img size', imgs.shape, '\\tgt size', gts.shape)\n",
    "    return imgs, gts\n",
    "\n",
    "def old_box(seg, i):\n",
    "    xind = np.nonzero(seg.ravel('C') == i)\n",
    "    [xmax, _] = np.unravel_index(np.max(xind), seg.shape, order = 'C')\n",
    "    [xmin, _] = np.unravel_index(np.min(xind), seg.shape, order = 'C')\n",
    "    yind = np.nonzero(seg.ravel('F') == i)\n",
    "    [_, ymax] = np.unravel_index(np.max(yind), seg.shape, order = 'F')\n",
    "    [_, ymin] = np.unravel_index(np.min(yind), seg.shape, order = 'F')\n",
    "    return np.array([xmax, ymax, xmin, ymin])\n",
    "\n",
    "def box(seg):\n",
    "    list_box = []\n",
    "    for i in range(np.max(seg)):\n",
    "        xind = np.nonzero(seg.ravel('C') == i)\n",
    "        [xmax, _] = np.unravel_index(np.max(xind), seg.shape, order = 'C')\n",
    "        [xmin, _] = np.unravel_index(np.min(xind), seg.shape, order = 'C')\n",
    "        yind = np.nonzero(seg.ravel('F') == i)\n",
    "        [_, ymax] = np.unravel_index(np.max(yind), seg.shape, order = 'F')\n",
    "        [_, ymin] = np.unravel_index(np.min(yind), seg.shape, order = 'F')\n",
    "        list_box.append(np.array([xmax, ymax, xmin, ymin]))\n",
    "    return list_box\n",
    "\n",
    "def old_patch_cat(gt, SLIC, i, thres1, thres2):\n",
    "    num = np.sum(gt[SLIC == i] > 125)\n",
    "    denom = gt[SLIC == i].size\n",
    "    size_true = np.sum(gt > 125)\n",
    "    if float(num)/float(denom)>thres1:\n",
    "        return 1\n",
    "    else:\n",
    "        if float(size_true) > 0 and float(num)/float(size_true) > thres2:\n",
    "            return 1\n",
    "        else: \n",
    "            return 0\n",
    "\n",
    "def patch_cat(gt_SLIC, thres1, thres2):\n",
    "    gt = gt_SLIC[0]\n",
    "    SLIC = gt_SLIC[1]\n",
    "    label_list = []\n",
    "    for i in range(np.max(SLIC)):\n",
    "        num = np.sum(gt[SLIC == i] > 125)\n",
    "        denom = gt[SLIC == i].size\n",
    "        size_true = np.sum(gt > 125)\n",
    "        if float(num)/float(denom)>thres1:\n",
    "            label_list.append(1)\n",
    "        else:\n",
    "            if float(size_true) > 0 and float(num)/float(size_true) > thres2:\n",
    "                label_list.append(1)\n",
    "            else: \n",
    "                label_list.append(0)\n",
    "    return label_list\n",
    "\n",
    "def old_xpatchify(img, SLIC, boxed, i):\n",
    "    [inda, indb] = np.nonzero(SLIC!=i)\n",
    "    imtemp = np.copy(img)\n",
    "    imtemp[inda,indb,:] = 0\n",
    "    x_temp = imtemp[int(boxed[2]):int(boxed[0]),\n",
    "                 int(boxed[3]):int(boxed[1])]\n",
    "    x_train = resize(x_temp, (80,80))\n",
    "    return(x_train)\n",
    "\n",
    "def xpatchify(img_SLIC_boxed):\n",
    "    img = img_SLIC_boxed[0]\n",
    "    SLIC = img_SLIC_boxed[1]\n",
    "    boxed = img_SLIC_boxed[2]\n",
    "    list_patches = []\n",
    "    for i in range(np.max(SLIC)):\n",
    "        [inda, indb] = np.nonzero(SLIC!=i)\n",
    "        imtemp = np.copy(img)\n",
    "        imtemp[inda,indb,:] = 0\n",
    "        x_temp = imtemp[int(boxed[i][2]):int(boxed[i][0]),\n",
    "                     int(boxed[i][3]):int(boxed[i][1])]\n",
    "        x_train = resize(x_temp, (80,80))\n",
    "        list_patches.append(x_train)\n",
    "    return(list_patches)\n",
    "\n",
    "def old_get_labeled_patches(imgs, gts, n_segments = 100, thres1 = 0.2, thres2 = 0.2):\n",
    "    \"\"\"\n",
    "    Get all the patches from the set of images.\n",
    "    :param imgs: images\n",
    "    :param gts: masks\n",
    "    :param n_segments: max number of patches for image\n",
    "    :param thres1: label = 1 if a proportion bigger than thres1 in the patch is masked as 1\n",
    "    :param thres2: label = 1 if pixels masked as 1 in patch / total number of pixels masked as 1 in the picture > thres2\n",
    "    :return: patches: list of patches, size [len(img), n_patches_per_image, 80,80]\n",
    "    :return: labels: list of labels per each patch, size [len(img), n_patches_per_image]\n",
    "    \"\"\"\n",
    "    n = len(imgs)\n",
    "    SLIC_list = np.asarray([slic(imgs[i, :], n_segments, compactness=20, sigma=10) for i in range(len(imgs))])\n",
    "\n",
    "    # initialise boxes\n",
    "    # run box function to find all superpixel patches sizes\n",
    "    boxes = np.empty((n, 0)).tolist()                                          \n",
    "    for i in range(n):\n",
    "        [boxes[i].append(old_box(SLIC_list[i, :], j)) for j in range(np.max(SLIC_list[i, :]))]                 \n",
    "\n",
    "    patches = np.empty((n, 0)).tolist()\n",
    "    # populating x_train\n",
    "    for i in range(n):\n",
    "        for j in range(np.max(SLIC_list[i, :])):\n",
    "            patches[i].append(old_xpatchify(imgs[i, :], SLIC_list[i, :], boxes[i][j], j))\n",
    "\n",
    "    #labels\n",
    "    labels = np.empty((n, 0)).tolist()\n",
    "    for j in range(n):\n",
    "        [labels[j].append(old_patch_cat(gts[j, :], SLIC_list[j, :], i, thres1, thres2)) for i in range(np.max(SLIC_list[j, :]))]\n",
    "\n",
    "    return patches, labels\n",
    "\n",
    "def get_labeled_patches(imgs, gts, n_segments = 100, thres1 = 0.2, thres2 = 0.2):\n",
    "    \"\"\"\n",
    "    Get all the patches from the set of images.\n",
    "    :param imgs: images\n",
    "    :param gts: masks\n",
    "    :param n_segments: max number of patches for image\n",
    "    :param thres1: label = 1 if a proportion bigger than thres1 in the patch is masked as 1\n",
    "    :param thres2: label = 1 if pixels masked as 1 in patch / total number of pixels masked as 1 in the picture > thres2\n",
    "    :return: patches: list of patches, size [len(img), n_patches_per_image, 80,80]\n",
    "    :return: labels: list of labels per each patch, size [len(img), n_patches_per_image]\n",
    "    \"\"\"\n",
    "    n = len(imgs)\n",
    "    SLIC_list = np.asarray([slic(imgs[i, :], n_segments, compactness=20, sigma=10) for i in range(len(imgs))])\n",
    "\n",
    "    # run box function to find all superpixel patches sizes\n",
    "    boxes = parmap.map(box, SLIC_list)\n",
    "    \n",
    "    # populating x_train\n",
    "    patches = parmap.map(xpatchify, zip(imgs,  SLIC_list, boxes))\n",
    "\n",
    "    #labels\n",
    "    labels = parmap.map(patch_cat, zip(gts,  SLIC_list), thres1, thres2)\n",
    "    \n",
    "    return patches, labels\n",
    "\n",
    "\n",
    "\n",
    "\n",
    "def balanced_sample_maker(X, y, random_seed=None):\n",
    "    \"\"\" return a balanced data set by oversampling minority class and downsampling majority class\n",
    "        current version is developed on assumption that the positive\n",
    "        class is the minority.\n",
    "\n",
    "    Parameters:\n",
    "    ===========\n",
    "    X: {numpy.ndarrray}\n",
    "    y: {numpy.ndarray}\n",
    "    \"\"\"\n",
    "    uniq_levels = unique(y)\n",
    "    if len(uniq_levels) < 2:\n",
    "        print(\"Not enough data, there are no images with a boat!\")\n",
    "        exit(0)\n",
    "    uniq_counts = {level: sum(y == level) for level in uniq_levels}\n",
    "\n",
    "    if not random_seed is None:\n",
    "        random.seed(random_seed)\n",
    "\n",
    "    # find observation index of each class levels\n",
    "    groupby_levels = {}\n",
    "    for ii, level in enumerate(uniq_levels):\n",
    "        obs_idx = [idx for idx, val in enumerate(y) if val == level]\n",
    "        groupby_levels[level] = obs_idx\n",
    "\n",
    "    # downsampling on observations of negative label\n",
    "    sample_size = uniq_counts[0]  # number of negative samples\n",
    "    down_sample_idx = random.choice(groupby_levels[0], size=int(sample_size / 10), replace=True).tolist()\n",
    "\n",
    "    # oversampling on observations of positive label\n",
    "    over_sample_idx = random.choice(groupby_levels[1], size=int(sample_size / 10), replace=True).tolist()\n",
    "    balanced_copy_idx = down_sample_idx + over_sample_idx\n",
    "    random.shuffle(balanced_copy_idx)\n",
    "\n",
    "    return X[balanced_copy_idx, :], y[balanced_copy_idx]"
   ]
  },
  {
   "cell_type": "code",
   "execution_count": 128,
   "metadata": {},
   "outputs": [
    {
     "name": "stdout",
     "output_type": "stream",
     "text": [
      "Reading file names ..\n",
      "read\n",
      "Reading  10  files...\n",
      "Read  10  files.\n",
      "Check: img size (10, 768, 768, 3) \tgt size (10, 768, 768)\n",
      "Load_batch takes 0.30666327476501465\n"
     ]
    },
    {
     "name": "stderr",
     "output_type": "stream",
     "text": [
      "/anaconda3/lib/python3.6/site-packages/skimage/transform/_warps.py:105: UserWarning: The default mode, 'constant', will be changed to 'reflect' in skimage 0.15.\n",
      "  warn(\"The default mode, 'constant', will be changed to 'reflect' in \"\n",
      "/anaconda3/lib/python3.6/site-packages/skimage/transform/_warps.py:110: UserWarning: Anti-aliasing will be enabled by default in skimage 0.15 to avoid aliasing artifacts when down-sampling images.\n",
      "  warn(\"Anti-aliasing will be enabled by default in skimage 0.15 to \"\n"
     ]
    },
    {
     "name": "stdout",
     "output_type": "stream",
     "text": [
      "Old get_labeled_patches takes 28.56762981414795\n",
      "New get_labeled_patches takes 17.667948007583618\n"
     ]
    }
   ],
   "source": [
    "path = '../data/'\n",
    "pimg = 'train_sample/'\n",
    "pgt = 'train_maps/'\n",
    "nfiles = len(os.listdir(path + pimg))\n",
    "startTime = time.time()\n",
    "imgs, gts = load_batch(path, pimg, pgt, nfiles, 10)\n",
    "print(\"Load_batch takes {}\".format(time.time() - startTime))\n",
    "startTime = time.time()\n",
    "list_patches_old, list_labels_old = old_get_labeled_patches(imgs, gts)\n",
    "print(\"Old get_labeled_patches takes {}\".format(time.time()- startTime))\n",
    "startTime = time.time()\n",
    "list_patches, list_labels = get_labeled_patches(imgs, gts)\n",
    "print(\"New get_labeled_patches takes {}\".format(time.time()- startTime))"
   ]
  },
  {
   "cell_type": "code",
   "execution_count": 134,
   "metadata": {},
   "outputs": [],
   "source": [
    "# DEBUG\n",
    "for i in range(len(list_patches)):\n",
    "    for j in range(len(list_patches[i])):\n",
    "        for h in range(len(list_patches[i][j])):\n",
    "            for z in range(len(list_patches[i][j][h])):\n",
    "                for x in range(len(list_patches[i][j][h][z])):\n",
    "                    if not list_patches[i][j][h][z][x] == list_patches_old[i][j][h][z][x]:\n",
    "                        print(\"bad\")"
   ]
  },
  {
   "cell_type": "markdown",
   "metadata": {},
   "source": [
    "## boxes"
   ]
  },
  {
   "cell_type": "markdown",
   "metadata": {},
   "source": [
    "Time divided in half !!"
   ]
  },
  {
   "cell_type": "code",
   "execution_count": 70,
   "metadata": {},
   "outputs": [
    {
     "name": "stdout",
     "output_type": "stream",
     "text": [
      "Boxes old method takes 2.691939115524292\n",
      "Boxes parmap takes 1.3860588073730469\n",
      "10\n",
      "Boxes takes 2.731315851211548\n"
     ]
    }
   ],
   "source": [
    "def old_box(seg, i):\n",
    "    xind = np.nonzero(seg.ravel('C') == i)\n",
    "    [xmax, _] = np.unravel_index(np.max(xind), seg.shape, order = 'C')\n",
    "    [xmin, _] = np.unravel_index(np.min(xind), seg.shape, order = 'C')\n",
    "    yind = np.nonzero(seg.ravel('F') == i)\n",
    "    [_, ymax] = np.unravel_index(np.max(yind), seg.shape, order = 'F')\n",
    "    [_, ymin] = np.unravel_index(np.min(yind), seg.shape, order = 'F')\n",
    "    return np.array([xmax, ymax, xmin, ymin])\n",
    "\n",
    "def box(seg):\n",
    "    list_box = []\n",
    "    for i in range(np.max(seg)):\n",
    "        xind = np.nonzero(seg.ravel('C') == i)\n",
    "        [xmax, _] = np.unravel_index(np.max(xind), seg.shape, order = 'C')\n",
    "        [xmin, _] = np.unravel_index(np.min(xind), seg.shape, order = 'C')\n",
    "        yind = np.nonzero(seg.ravel('F') == i)\n",
    "        [_, ymax] = np.unravel_index(np.max(yind), seg.shape, order = 'F')\n",
    "        [_, ymin] = np.unravel_index(np.min(yind), seg.shape, order = 'F')\n",
    "        list_box.append(np.array([xmax, ymax, xmin, ymin]))\n",
    "    return list_box\n",
    "\n",
    "n = len(imgs)\n",
    "SLIC_list = np.asarray([slic(imgs[i, :], n_segments = 100, compactness=20, sigma=10) for i in range(len(imgs))])\n",
    "\n",
    "# initialise boxes\n",
    "# run box function to find all superpixel patches sizes\n",
    "    \n",
    "startTime = time.time()\n",
    "boxes1 = np.empty((n, 0)).tolist()                                          \n",
    "for i in range(n):\n",
    "    [boxes1[i].append(old_box(SLIC_list[i, :], j)) for j in range(np.max(SLIC_list[i, :]))]\n",
    "print(\"Boxes old method takes {}\".format(time.time() - startTime))\n",
    "\n",
    "startTime = time.time()\n",
    "boxes = parmap.map(box, SLIC_list)\n",
    "print(\"Boxes parmap takes {}\".format(time.time() - startTime))\n",
    "\n",
    "startTime = time.time()\n",
    "boxes0 = np.empty((n, 0)).tolist()\n",
    "for i in range(n):\n",
    "    [boxes0[i].append(box(SLIC_list[i, :]))]\n",
    "flat_boxes = []\n",
    "[flat_boxes.append(box) for i in range(n) for box in boxes0[i]]\n",
    "print(len(flat_boxes))\n",
    "print(\"Boxes takes {}\".format(time.time() - startTime))"
   ]
  },
  {
   "cell_type": "markdown",
   "metadata": {},
   "source": [
    "Boxes old method takes 2.731771230697632\n",
    "\n",
    "\n",
    "Boxes parmap takes 1.4589712619781494\n",
    "\n",
    "\n",
    "Boxes takes 2.75345516204834"
   ]
  },
  {
   "cell_type": "code",
   "execution_count": 66,
   "metadata": {},
   "outputs": [],
   "source": [
    "# DEBUG\n",
    "for i in range(len(boxes0)):\n",
    "    for j in range(len(boxes0[i])):\n",
    "        for h in range(len(boxes0[i][j])):\n",
    "            if not boxes1[i][j][h] == boxes0[i][j][h]:\n",
    "                print(\"bad\")"
   ]
  },
  {
   "cell_type": "markdown",
   "metadata": {},
   "source": [
    "## Patches"
   ]
  },
  {
   "cell_type": "markdown",
   "metadata": {},
   "source": [
    "Time divided in half !!"
   ]
  },
  {
   "cell_type": "code",
   "execution_count": 94,
   "metadata": {},
   "outputs": [],
   "source": [
    "def old_xpatchify(img, SLIC, boxed, i):\n",
    "    [inda, indb] = np.nonzero(SLIC!=i)\n",
    "    imtemp = np.copy(img)\n",
    "    imtemp[inda,indb,:] = 0\n",
    "    x_temp = imtemp[int(boxed[2]):int(boxed[0]),\n",
    "                 int(boxed[3]):int(boxed[1])]\n",
    "    x_train = resize(x_temp, (80,80))\n",
    "    return(x_train)\n",
    "\n",
    "def xpatchify(img_SLIC_boxed):\n",
    "    img = img_SLIC_boxed[0]\n",
    "    SLIC = img_SLIC_boxed[1]\n",
    "    boxed = img_SLIC_boxed[2]\n",
    "    list_patches = []\n",
    "    for i in range(np.max(SLIC)):\n",
    "        [inda, indb] = np.nonzero(SLIC!=i)\n",
    "        imtemp = np.copy(img)\n",
    "        imtemp[inda,indb,:] = 0\n",
    "        x_temp = imtemp[int(boxed[i][2]):int(boxed[i][0]),\n",
    "                     int(boxed[i][3]):int(boxed[i][1])]\n",
    "        x_train = resize(x_temp, (80,80))\n",
    "        list_patches.append(x_train)\n",
    "    return(list_patches)"
   ]
  },
  {
   "cell_type": "code",
   "execution_count": 96,
   "metadata": {},
   "outputs": [
    {
     "name": "stderr",
     "output_type": "stream",
     "text": [
      "/anaconda3/lib/python3.6/site-packages/skimage/transform/_warps.py:105: UserWarning: The default mode, 'constant', will be changed to 'reflect' in skimage 0.15.\n",
      "  warn(\"The default mode, 'constant', will be changed to 'reflect' in \"\n",
      "/anaconda3/lib/python3.6/site-packages/skimage/transform/_warps.py:110: UserWarning: Anti-aliasing will be enabled by default in skimage 0.15 to avoid aliasing artifacts when down-sampling images.\n",
      "  warn(\"Anti-aliasing will be enabled by default in skimage 0.15 to \"\n"
     ]
    },
    {
     "name": "stdout",
     "output_type": "stream",
     "text": [
      "Patches old method takes 14.836807012557983\n",
      "Patches new method takes 8.277411699295044\n"
     ]
    }
   ],
   "source": [
    "startTime = time.time()\n",
    "patches_old = np.empty((n, 0)).tolist()\n",
    "    # populating x_train\n",
    "for i in range(n):\n",
    "    for j in range(np.max(SLIC_list[i, :])):\n",
    "        patches_old[i].append(old_xpatchify(imgs[i, :], SLIC_list[i, :], boxes[i][j], j))\n",
    "print(\"Patches old method takes {}\".format(time.time() - startTime))\n",
    "\n",
    "startTime = time.time()\n",
    "patches = parmap.map(xpatchify, zip(imgs,  SLIC_list, boxes))\n",
    "print(\"Patches new method takes {}\".format(time.time() - startTime))"
   ]
  },
  {
   "cell_type": "code",
   "execution_count": 115,
   "metadata": {},
   "outputs": [],
   "source": [
    "# DEBUG\n",
    "for i in range(len(patches)):\n",
    "    for j in range(len(patches[i])):\n",
    "        for h in range(len(patches[i][j])):\n",
    "            for z in range(len(patches[i][j][h])):\n",
    "                for x in range(len(patches[i][j][h][z])):\n",
    "                    if not patches[i][j][h][z][x] == patches_old[i][j][h][z][x] :\n",
    "                        print(\"bad\")"
   ]
  },
  {
   "cell_type": "markdown",
   "metadata": {},
   "source": [
    "## Labels"
   ]
  },
  {
   "cell_type": "code",
   "execution_count": 122,
   "metadata": {},
   "outputs": [],
   "source": [
    "def old_patch_cat(gt, SLIC, i, thres1, thres2):\n",
    "    num = np.sum(gt[SLIC == i] > 125)\n",
    "    denom = gt[SLIC == i].size\n",
    "    size_true = np.sum(gt > 125)\n",
    "    if float(num)/float(denom)>thres1:\n",
    "        return 1\n",
    "    else:\n",
    "        if float(size_true) > 0 and float(num)/float(size_true) > thres2:\n",
    "            return 1\n",
    "        else: \n",
    "            return 0\n",
    "\n",
    "def patch_cat(gt_SLIC, thres1, thres2):\n",
    "    gt = gt_SLIC[0]\n",
    "    SLIC = gt_SLIC[1]\n",
    "    label_list = []\n",
    "    for i in range(np.max(SLIC)):\n",
    "        num = np.sum(gt[SLIC == i] > 125)\n",
    "        denom = gt[SLIC == i].size\n",
    "        size_true = np.sum(gt > 125)\n",
    "        if float(num)/float(denom)>thres1:\n",
    "            label_list.append(1)\n",
    "        else:\n",
    "            if float(size_true) > 0 and float(num)/float(size_true) > thres2:\n",
    "                label_list.append(1)\n",
    "            else: \n",
    "                label_list.append(0)\n",
    "    return label_list"
   ]
  },
  {
   "cell_type": "code",
   "execution_count": 123,
   "metadata": {},
   "outputs": [
    {
     "name": "stdout",
     "output_type": "stream",
     "text": [
      "Labels old method takes 1.3308868408203125\n",
      "Labels new method takes 0.8495790958404541\n"
     ]
    }
   ],
   "source": [
    "thres1 = 0.1 \n",
    "thres2 = 0.1\n",
    "\n",
    "startTime = time.time()\n",
    "labels_old = np.empty((n, 0)).tolist()\n",
    "for j in range(n):\n",
    "    [labels_old[j].append(old_patch_cat(gts[j, :], SLIC_list[j, :], i, thres1, thres2)) for i in range(np.max(SLIC_list[j, :]))]\n",
    "print(\"Labels old method takes {}\".format(time.time() - startTime))\n",
    "\n",
    "startTime = time.time()\n",
    "labels = parmap.map(patch_cat, zip(gts,  SLIC_list), thres1, thres2)\n",
    "print(\"Labels new method takes {}\".format(time.time() - startTime))"
   ]
  },
  {
   "cell_type": "code",
   "execution_count": 125,
   "metadata": {},
   "outputs": [],
   "source": [
    "# DEBUG\n",
    "for i in range(len(labels)):\n",
    "    for j in range(len(labels[i])):\n",
    "        if not labels[i][j] == labels_old[i][j]:\n",
    "            print(\"bad\")"
   ]
  },
  {
   "cell_type": "code",
   "execution_count": null,
   "metadata": {},
   "outputs": [],
   "source": []
  }
 ],
 "metadata": {
  "kernelspec": {
   "display_name": "Python 3",
   "language": "python",
   "name": "python3"
  },
  "language_info": {
   "codemirror_mode": {
    "name": "ipython",
    "version": 3
   },
   "file_extension": ".py",
   "mimetype": "text/x-python",
   "name": "python",
   "nbconvert_exporter": "python",
   "pygments_lexer": "ipython3",
   "version": "3.6.5"
  }
 },
 "nbformat": 4,
 "nbformat_minor": 2
}
