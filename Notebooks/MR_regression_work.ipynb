{
 "cells": [
  {
   "cell_type": "code",
   "execution_count": 1,
   "metadata": {},
   "outputs": [
    {
     "name": "stderr",
     "output_type": "stream",
     "text": [
      "/Users/margheritarosnati/anaconda3/lib/python3.6/importlib/_bootstrap.py:219: RuntimeWarning: compiletime version 3.5 of module 'tensorflow.python.framework.fast_tensor_util' does not match runtime version 3.6\n",
      "  return f(*args, **kwds)\n",
      "/Users/margheritarosnati/anaconda3/lib/python3.6/site-packages/h5py/__init__.py:36: FutureWarning: Conversion of the second argument of issubdtype from `float` to `np.floating` is deprecated. In future, it will be treated as `np.float64 == np.dtype(float).type`.\n",
      "  from ._conv import register_converters as _register_converters\n"
     ]
    }
   ],
   "source": [
    "import pandas as pd\n",
    "import numpy as np\n",
    "import tensorflow as tf\n",
    "import matplotlib.pyplot as plt"
   ]
  },
  {
   "cell_type": "markdown",
   "metadata": {},
   "source": [
    "# testing some code"
   ]
  },
  {
   "cell_type": "code",
   "execution_count": 2,
   "metadata": {
    "collapsed": true
   },
   "outputs": [],
   "source": [
    "name = '0a148697c.jpg'\n",
    "labels_file =  \"../data/labels/boxes_v2.csv\""
   ]
  },
  {
   "cell_type": "code",
   "execution_count": 4,
   "metadata": {},
   "outputs": [
    {
     "data": {
      "text/html": [
       "<div>\n",
       "<style>\n",
       "    .dataframe thead tr:only-child th {\n",
       "        text-align: right;\n",
       "    }\n",
       "\n",
       "    .dataframe thead th {\n",
       "        text-align: left;\n",
       "    }\n",
       "\n",
       "    .dataframe tbody tr th {\n",
       "        vertical-align: top;\n",
       "    }\n",
       "</style>\n",
       "<table border=\"1\" class=\"dataframe\">\n",
       "  <thead>\n",
       "    <tr style=\"text-align: right;\">\n",
       "      <th></th>\n",
       "      <th>ImageId</th>\n",
       "      <th>width</th>\n",
       "      <th>height</th>\n",
       "      <th>lt_x</th>\n",
       "      <th>lt_y</th>\n",
       "      <th>rb_x</th>\n",
       "      <th>rb_y</th>\n",
       "    </tr>\n",
       "  </thead>\n",
       "  <tbody>\n",
       "    <tr>\n",
       "      <th>0</th>\n",
       "      <td>00003e153.jpg</td>\n",
       "      <td>0</td>\n",
       "      <td>0</td>\n",
       "      <td>0</td>\n",
       "      <td>0</td>\n",
       "      <td>0</td>\n",
       "      <td>0</td>\n",
       "    </tr>\n",
       "    <tr>\n",
       "      <th>1</th>\n",
       "      <td>0001124c7.jpg</td>\n",
       "      <td>0</td>\n",
       "      <td>0</td>\n",
       "      <td>0</td>\n",
       "      <td>0</td>\n",
       "      <td>0</td>\n",
       "      <td>0</td>\n",
       "    </tr>\n",
       "  </tbody>\n",
       "</table>\n",
       "</div>"
      ],
      "text/plain": [
       "         ImageId  width  height  lt_x  lt_y  rb_x  rb_y\n",
       "0  00003e153.jpg      0       0     0     0     0     0\n",
       "1  0001124c7.jpg      0       0     0     0     0     0"
      ]
     },
     "execution_count": 4,
     "metadata": {},
     "output_type": "execute_result"
    }
   ],
   "source": [
    "y_raw = pd.read_csv(labels_file)\n",
    "y_raw.head(2)"
   ]
  },
  {
   "cell_type": "code",
   "execution_count": null,
   "metadata": {
    "collapsed": true
   },
   "outputs": [],
   "source": [
    "y_raw[y_raw.ImageId==name]"
   ]
  },
  {
   "cell_type": "markdown",
   "metadata": {},
   "source": [
    "### first let's work out how to load the data into the model"
   ]
  },
  {
   "cell_type": "code",
   "execution_count": 6,
   "metadata": {
    "collapsed": true
   },
   "outputs": [],
   "source": [
    "ground_truths = y_raw[y_raw.ImageId == name]\n",
    "array_of_coords = np.array(ground_truths[['lt_x', 'lt_y', 'rb_x', 'rb_y']])"
   ]
  },
  {
   "cell_type": "code",
   "execution_count": 15,
   "metadata": {
    "collapsed": true
   },
   "outputs": [],
   "source": [
    "n_boxes = array_of_coords.shape[0]\n",
    "y_map = np.zeros((768, 768, n_boxes))\n",
    "y_coord = np.zeros((768, 768, n_boxes*4))\n",
    "\n",
    "for box_idx in range(n_boxes):\n",
    "    # Loop over amount of boats per image ~ of order 10.\n",
    "    box = array_of_coords[box_idx, :]\n",
    "    # TODO: check that im using dimensions correctly here and agrees with static file\n",
    "    y_map[box[0]:box[2], box[1]:box[3], box_idx] = 1\n",
    "    y_coord[:,:,4*box_idx + 0] = round((box[2]+box[0])/2) # x-centre\n",
    "    y_coord[:,:,4*box_idx + 1] = round((box[3]+box[1])/2) # y-centre\n",
    "    y_coord[:,:,4*box_idx + 2] = box[2]-box[0] # width\n",
    "    y_coord[:,:,4*box_idx + 3] = box[3]-box[1] # height\n",
    "y_coord = list(map(int, y_coord))"
   ]
  },
  {
   "cell_type": "code",
   "execution_count": 26,
   "metadata": {
    "collapsed": true
   },
   "outputs": [],
   "source": [
    "def get_y_data(filename):\n",
    "    '''\n",
    "    Converts a filename into an array, with one channel for each boat in the image\n",
    "    :param filename: filename string\n",
    "    :return: np array of size [h, w, n_boats_in_this_image]\n",
    "    '''\n",
    "\n",
    "    ground_truths = y_raw[y_raw.ImageId == filename]\n",
    "    array_of_coords = np.array(ground_truths[['lt_x', 'lt_y', 'rb_x', 'rb_y']])\n",
    "    # array_of_coords is of shape [n_boxes, 4]\n",
    "\n",
    "    n_boxes = array_of_coords.shape[0]\n",
    "    y_map = np.zeros((768, 768, n_boxes))\n",
    "    y_coord = np.zeros((768, 768, n_boxes*4))\n",
    "\n",
    "    for box_idx in range(n_boxes):\n",
    "        # Loop over amount of boats per image ~ of order 10.\n",
    "        box = array_of_coords[box_idx, :]\n",
    "        # TODO: check that im using dimensions correctly here and agrees with static file\n",
    "        y_map[box[0]:box[2], box[1]:box[3], box_idx] = 1\n",
    "        y_coord[:,:,4*box_idx + 0] = round((box[2]+box[0])/2) # x-centre\n",
    "        y_coord[:,:,4*box_idx + 1] = round((box[3]+box[1])/2) # y-centre\n",
    "        y_coord[:,:,4*box_idx + 2] = box[2]-box[0] # width\n",
    "        y_coord[:,:,4*box_idx + 3] = box[3]-box[1] # height\n",
    "\n",
    "    return y_map, y_coord"
   ]
  },
  {
   "cell_type": "code",
   "execution_count": 19,
   "metadata": {},
   "outputs": [
    {
     "data": {
      "text/plain": [
       "array([570., 492.,  26.,  38.,  76., 737., 150.,  44., 588., 463.,  26.,\n",
       "        36., 726., 573.,  82., 132., 604., 433.,  23.,  30., 500., 620.,\n",
       "        97., 140.])"
      ]
     },
     "execution_count": 19,
     "metadata": {},
     "output_type": "execute_result"
    }
   ],
   "source": [
    "y_coord[0,0,:]"
   ]
  },
  {
   "cell_type": "code",
   "execution_count": 28,
   "metadata": {
    "collapsed": true
   },
   "outputs": [],
   "source": [
    "def padder(list_of_arr):\n",
    "    '''\n",
    "    Pads each list of boat maps so all have the same depth (which is the max amount of\n",
    "    boats across all images) and creates a numpy array of the result.\n",
    "    :param list_of_arr: list of arrays, each shaped [768, 768, n_boats_in_this_image]\n",
    "    :return: numpy array of shape [len(list_of_arr), h, w, maximum_n_boats]\n",
    "    '''\n",
    "\n",
    "    maximum_n_boats = max([x.shape[2] for x in list_of_arr])\n",
    "    dim_arr = list_of_arr[0].shape\n",
    "\n",
    "    n_box_max = maximum_n_boats\n",
    "\n",
    "    b = np.zeros([len(list_of_arr), dim_arr[0], dim_arr[1], maximum_n_boats])\n",
    "    for i, arr in enumerate(list_of_arr):\n",
    "        b[i,:, :, :arr.shape[2]] = arr\n",
    "    return b"
   ]
  },
  {
   "cell_type": "code",
   "execution_count": 21,
   "metadata": {
    "collapsed": true
   },
   "outputs": [],
   "source": [
    "files = [name]"
   ]
  },
  {
   "cell_type": "code",
   "execution_count": 30,
   "metadata": {
    "collapsed": true
   },
   "outputs": [],
   "source": [
    "y_data = padder([get_y_data(file)[0] for file in files])\n",
    "y_corddata = padder([get_y_data(file)[1] for file in files])"
   ]
  },
  {
   "cell_type": "code",
   "execution_count": 31,
   "metadata": {},
   "outputs": [
    {
     "data": {
      "text/plain": [
       "(1, 768, 768, 24)"
      ]
     },
     "execution_count": 31,
     "metadata": {},
     "output_type": "execute_result"
    }
   ],
   "source": [
    "y_corddata.shape"
   ]
  },
  {
   "cell_type": "markdown",
   "metadata": {},
   "source": [
    "### now let's get the anchors in the right shape"
   ]
  },
  {
   "cell_type": "code",
   "execution_count": 32,
   "metadata": {
    "collapsed": true
   },
   "outputs": [],
   "source": [
    "anchor_shapes = [(11, 11), (21, 21), (31, 31), (5, 11), (11, 21), (21, 31), (11, 5), (21, 11), (31, 21)]"
   ]
  },
  {
   "cell_type": "code",
   "execution_count": 2,
   "metadata": {
    "collapsed": true
   },
   "outputs": [],
   "source": [
    "anchor_shapes = [(11, 11), (21, 21)]"
   ]
  },
  {
   "cell_type": "code",
   "execution_count": 17,
   "metadata": {},
   "outputs": [
    {
     "name": "stdout",
     "output_type": "stream",
     "text": [
      "(768, 768, 2, 4)\n",
      "(768, 768)\n"
     ]
    }
   ],
   "source": [
    "n_anchors = len(anchor_shapes)\n",
    "y_anchors = np.zeros((768,768,n_anchors,4))\n",
    "print(y_anchors.shape)\n",
    "x = np.arange(768)\n",
    "X, Y = np.meshgrid(x,x)\n",
    "y_anchors[:,:,:,0] = np.reshape(X,(768,768,1))\n",
    "y_anchors[:,:,:,1] = np.reshape(Y,(768,768,1))\n",
    "\n",
    "print(y_anchors[:,:,1,2].shape)"
   ]
  },
  {
   "cell_type": "code",
   "execution_count": 28,
   "metadata": {},
   "outputs": [
    {
     "name": "stdout",
     "output_type": "stream",
     "text": [
      "(1, 768, 768, 2, 4)\n",
      "(1, 768, 768, 2, 4)\n"
     ]
    }
   ],
   "source": [
    "n_anchors = len(anchor_shapes)\n",
    "y_anchors = np.zeros((1,768,768,n_anchors,4))\n",
    "print(y_anchors.shape)\n",
    "x = np.arange(768)\n",
    "X, Y = np.meshgrid(x,x)\n",
    "y_anchors[:,:,:,:,0] = np.reshape(Y,(1,768,768,1))\n",
    "y_anchors[:,:,:,:,1] = np.reshape(X,(1,768,768,1))\n",
    "i=0\n",
    "for anchor_shape in anchor_shapes:\n",
    "    y_anchors[:,:,:,i,2] = np.ones((1,768,768))*anchor_shape[0] # width\n",
    "    y_anchors[:,:,:,i,3] = np.ones((1,768,768))*anchor_shape[1] # length\n",
    "    i +=1\n",
    "print(y_anchors.shape)"
   ]
  },
  {
   "cell_type": "code",
   "execution_count": 26,
   "metadata": {},
   "outputs": [
    {
     "data": {
      "text/plain": [
       "array([[ 3.,  4., 11., 11.],\n",
       "       [ 3.,  4., 21., 21.]])"
      ]
     },
     "execution_count": 26,
     "metadata": {},
     "output_type": "execute_result"
    }
   ],
   "source": [
    "# test\n",
    "y_anchors[3,4,:,:]"
   ]
  },
  {
   "cell_type": "code",
   "execution_count": 69,
   "metadata": {
    "collapsed": true
   },
   "outputs": [],
   "source": [
    "tfanchors = tf.convert_to_tensor(y_anchors)"
   ]
  },
  {
   "cell_type": "markdown",
   "metadata": {},
   "source": [
    "and voila! just a little tiling and we are done (see code)"
   ]
  },
  {
   "cell_type": "markdown",
   "metadata": {},
   "source": [
    "### other random things"
   ]
  },
  {
   "cell_type": "code",
   "execution_count": 140,
   "metadata": {
    "collapsed": true
   },
   "outputs": [],
   "source": [
    "indx = np.random.randint(6,size=(2,2,4))\n",
    "arr = np.random.randint(10,size=(2,2,6))\n",
    "arr = np.arange(2*2*6).reshape((2,2,6))"
   ]
  },
  {
   "cell_type": "code",
   "execution_count": 141,
   "metadata": {},
   "outputs": [
    {
     "name": "stdout",
     "output_type": "stream",
     "text": [
      "[[1 2]\n",
      " [2 5]] \n",
      "\n",
      "\n",
      "[[ 0  6]\n",
      " [12 18]] arr[:,:,i] 0\n",
      "[[ 1  7]\n",
      " [13 19]] arr[:,:,i] 1\n",
      "[[ 2  8]\n",
      " [14 20]] arr[:,:,i] 2\n",
      "[[ 3  9]\n",
      " [15 21]] arr[:,:,i] 3\n",
      "[[ 4 10]\n",
      " [16 22]] arr[:,:,i] 4\n",
      "[[ 5 11]\n",
      " [17 23]] arr[:,:,i] 5\n"
     ]
    }
   ],
   "source": [
    "print(indx[:,:,0], \"\\n\\n\")\n",
    "for i in range(6):\n",
    "    print(arr[:,:,i],\"arr[:,:,i]\",i)"
   ]
  },
  {
   "cell_type": "code",
   "execution_count": 146,
   "metadata": {},
   "outputs": [
    {
     "name": "stdout",
     "output_type": "stream",
     "text": [
      "[[1 2]\n",
      " [2 5]]\n"
     ]
    },
    {
     "data": {
      "text/plain": [
       "array([[ 1,  8],\n",
       "       [14, 23]])"
      ]
     },
     "execution_count": 146,
     "metadata": {},
     "output_type": "execute_result"
    }
   ],
   "source": [
    "ttry = indx[:,:,0]\n",
    "print(ttry)\n",
    "x = np.arange(2)\n",
    "z = np.arange(6)\n",
    "idx, idy = np.meshgrid(x,x)\n",
    "np.array([[arr[0,0,ttry[0,0]],arr[0,1,ttry[0,1]]],[arr[1,0,ttry[1,0]], arr[1,1,ttry[1,1]]]])"
   ]
  },
  {
   "cell_type": "code",
   "execution_count": 147,
   "metadata": {},
   "outputs": [
    {
     "name": "stdout",
     "output_type": "stream",
     "text": [
      "[[ 1  8]\n",
      " [14 23]] \n",
      "\n",
      " [[ 1 14]\n",
      " [ 8 23]]\n"
     ]
    }
   ],
   "source": [
    "idxmr = [[0,0],[1,1]]\n",
    "idymr = [[0,1],[0,1]]\n",
    "idzmr = ttry\n",
    "print(arr[idxmr,idymr,ttry], \"\\n\\n\", arr[idx,idy,ttry])\n"
   ]
  },
  {
   "cell_type": "code",
   "execution_count": 148,
   "metadata": {
    "collapsed": true
   },
   "outputs": [],
   "source": [
    "indx2 = np.random.randint(6,size=(2,2,4))"
   ]
  },
  {
   "cell_type": "code",
   "execution_count": 153,
   "metadata": {
    "collapsed": true
   },
   "outputs": [],
   "source": [
    "newidx = np.stack((idx,idx),axis=2)\n",
    "newidy = np.stack((idy,idy),axis=2)\n"
   ]
  },
  {
   "cell_type": "code",
   "execution_count": 157,
   "metadata": {},
   "outputs": [
    {
     "data": {
      "text/plain": [
       "array([[[ 1,  0],\n",
       "        [14, 12]],\n",
       "\n",
       "       [[ 8,  8],\n",
       "        [23, 23]]])"
      ]
     },
     "execution_count": 157,
     "metadata": {},
     "output_type": "execute_result"
    }
   ],
   "source": [
    "arr[newidx,newidy, indx[:,:,0:2]]"
   ]
  },
  {
   "cell_type": "code",
   "execution_count": 161,
   "metadata": {},
   "outputs": [
    {
     "name": "stdout",
     "output_type": "stream",
     "text": [
      "[[[1 0]\n",
      "  [2 0]]\n",
      "\n",
      " [[2 2]\n",
      "  [5 5]]] \n",
      "\n",
      "\n",
      "[[1 2]\n",
      " [2 5]] \n",
      "\n",
      "\n",
      "[[0 0]\n",
      " [2 5]] \n",
      "\n",
      "\n",
      "[[ 0 12]\n",
      " [ 8 23]]\n"
     ]
    }
   ],
   "source": [
    "print(indx[:,:,0:2],\"\\n\\n\")\n",
    "print(indx[:,:,0],\"\\n\\n\")\n",
    "print(indx[:,:,1],\"\\n\\n\")\n",
    "print(arr[idx,idy,indx[:,:,1]])"
   ]
  }
 ],
 "metadata": {
  "kernelspec": {
   "display_name": "Python 3",
   "language": "python",
   "name": "python3"
  },
  "language_info": {
   "codemirror_mode": {
    "name": "ipython",
    "version": 3
   },
   "file_extension": ".py",
   "mimetype": "text/x-python",
   "name": "python",
   "nbconvert_exporter": "python",
   "pygments_lexer": "ipython3",
   "version": "3.6.3"
  }
 },
 "nbformat": 4,
 "nbformat_minor": 2
}
